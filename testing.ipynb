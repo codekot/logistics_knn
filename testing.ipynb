{
 "cells": [
  {
   "cell_type": "code",
   "execution_count": 4,
   "id": "3b8a7416",
   "metadata": {},
   "outputs": [],
   "source": [
    "import os\n",
    "import numpy as np\n",
    "import pandas as pd\n",
    "import seaborn as sns\n",
    "import matplotlib.pyplot as plt\n",
    "from math import sqrt"
   ]
  },
  {
   "cell_type": "code",
   "execution_count": 5,
   "id": "f67b37c3",
   "metadata": {},
   "outputs": [],
   "source": [
    "from sklearn.pipeline import Pipeline\n",
    "from sklearn.compose import ColumnTransformer\n",
    "from sklearn.model_selection import train_test_split, cross_validate\n",
    "from sklearn.metrics import plot_confusion_matrix, accuracy_score\n",
    "from sklearn.neighbors import KNeighborsClassifier\n",
    "from sklearn.preprocessing import StandardScaler, OneHotEncoder"
   ]
  },
  {
   "cell_type": "code",
   "execution_count": 6,
   "id": "6e942e99",
   "metadata": {},
   "outputs": [],
   "source": [
    "from sklearn import datasets\n",
    "from sklearn import metrics"
   ]
  },
  {
   "cell_type": "code",
   "execution_count": 7,
   "id": "819e1a6c",
   "metadata": {
    "scrolled": false
   },
   "outputs": [
    {
     "data": {
      "image/png": "[encoded data removed]",
      "text/plain": [
       "<Figure size 720x360 with 21 Axes>"
      ]
     },
     "metadata": {
      "needs_background": "light"
     },
     "output_type": "display_data"
    }
   ],
   "source": [
    "X, y = datasets.load_digits(n_class=10, return_X_y=True)\n",
    "\n",
    "_, axes = plt.subplots(nrows=3, ncols=7, figsize=(10, 5))\n",
    "for ax, image, label in zip(axes.flatten(), X, y):\n",
    "    ax.set_axis_off()\n",
    "    ax.imshow(image.reshape((8, 8)), cmap=plt.cm.gray_r if label % 2 else plt.cm.afmhot_r)\n",
    "    ax.set_title(label)\n",
    "\n",
    "X_train, X_test, y_train, y_test = train_test_split(X, y, test_size=0.2, shuffle=True, random_state=42)\n",
    "#y_train = \"<your code>\"\n",
    "#y_test = \"<your code>\"\n",
    "y_train = (y_train % 2) * 2 - 1\n",
    "y_test = (y_test % 2) * 2 - 1"
   ]
  },
  {
   "cell_type": "code",
   "execution_count": 8,
   "id": "d00601aa",
   "metadata": {},
   "outputs": [],
   "source": [
    "X_ext = np.hstack([np.ones((X_train.shape[0], 1)), X_train])"
   ]
  },
  {
   "cell_type": "code",
   "execution_count": 9,
   "id": "4678b311",
   "metadata": {},
   "outputs": [
    {
     "data": {
      "text/plain": [
       "array([[ 1.,  0.,  0., ..., 13.,  4.,  0.],\n",
       "       [ 1.,  0.,  0., ...,  3.,  0.,  0.],\n",
       "       [ 1.,  0.,  0., ...,  6.,  0.,  0.],\n",
       "       ...,\n",
       "       [ 1.,  0.,  0., ..., 16.,  2.,  0.],\n",
       "       [ 1.,  0.,  0., ...,  0.,  0.,  0.],\n",
       "       [ 1.,  0.,  0., ...,  1.,  0.,  0.]])"
      ]
     },
     "execution_count": 9,
     "metadata": {},
     "output_type": "execute_result"
    }
   ],
   "source": [
    "X_ext"
   ]
  },
  {
   "cell_type": "code",
   "execution_count": 25,
   "id": "9903452a",
   "metadata": {},
   "outputs": [],
   "source": [
    "\n",
    "eta = 0.001\n",
    "C = 1.0"
   ]
  },
  {
   "cell_type": "code",
   "execution_count": null,
   "id": "1494a686",
   "metadata": {},
   "outputs": [],
   "source": [
    "Так, про циклы в фите.\n",
    "# 1. Берем вектор весов w умножаем на X[i от всех семплов], получаем число \n",
    "# 2. умножаем его на y[i], получаем число. \n",
    "# 3. Берем экспоненту то да се, \n",
    "# 4. умножаем полученное число на результат векторного перемножения y[i] и x[i], \n",
    "# 5. получаем вектор из 65 элементов. \n",
    "# 6. Прогоняем цикл 1437 раз,\n",
    "# 7. полученные вектора сумми"
   ]
  },
  {
   "cell_type": "code",
   "execution_count": 10,
   "id": "4d737c76",
   "metadata": {},
   "outputs": [],
   "source": [
    "num_features = X_ext.shape[1]\n",
    "weights_ = np.zeros(num_features) "
   ]
  },
  {
   "cell_type": "code",
   "execution_count": null,
   "id": "125a5663",
   "metadata": {},
   "outputs": [],
   "source": [
    "(1/X_ext.shape[0])*(np.log(1+np.exp(-(weights@X_ext.T)*y))).sum()+((np.linalg.norm(weights)**2)/(2*self.C))"
   ]
  },
  {
   "cell_type": "code",
   "execution_count": 26,
   "id": "99779a3a",
   "metadata": {},
   "outputs": [
    {
     "data": {
      "text/plain": [
       "0.6931471805599453"
      ]
     },
     "execution_count": 26,
     "metadata": {},
     "output_type": "execute_result"
    }
   ],
   "source": [
    "*np.log(1+np.exp(-((weights_@X_ext.T)*y_train))).sum()+((np.linalg.norm(weights_)**2)/(2*C))"
   ]
  },
  {
   "cell_type": "code",
   "execution_count": 43,
   "id": "0b448814",
   "metadata": {},
   "outputs": [
    {
     "data": {
      "text/plain": [
       "0.6931471805599195"
      ]
     },
     "execution_count": 43,
     "metadata": {},
     "output_type": "execute_result"
    }
   ],
   "source": [
    "lin = weights_@X_ext.T\n",
    "\n",
    "result = 0\n",
    "for i in range(X_ext.shape[0]):\n",
    "    row = np.log(1+np.exp(-lin[i]*y[i]))\n",
    "    result += row\n",
    "result = (1/X_ext.shape[0])*result + ((np.linalg.norm(weights_)**2)/(2*C))\n",
    "result"
   ]
  },
  {
   "cell_type": "code",
   "execution_count": 11,
   "id": "f5c7df4a",
   "metadata": {},
   "outputs": [
    {
     "data": {
      "text/plain": [
       "array([0., 0., 0., 0., 0., 0., 0., 0., 0., 0., 0., 0., 0., 0., 0., 0., 0.,\n",
       "       0., 0., 0., 0., 0., 0., 0., 0., 0., 0., 0., 0., 0., 0., 0., 0., 0.,\n",
       "       0., 0., 0., 0., 0., 0., 0., 0., 0., 0., 0., 0., 0., 0., 0., 0., 0.,\n",
       "       0., 0., 0., 0., 0., 0., 0., 0., 0., 0., 0., 0., 0., 0.])"
      ]
     },
     "execution_count": 11,
     "metadata": {},
     "output_type": "execute_result"
    }
   ],
   "source": [
    "#dtype('float64')\n",
    "result = np.zeros((65,))\n",
    "result"
   ]
  },
  {
   "cell_type": "code",
   "execution_count": 12,
   "id": "31ecbb06",
   "metadata": {},
   "outputs": [
    {
     "data": {
      "text/plain": [
       "array([ 1.,  0.,  0.,  9.,  9.,  4.,  0.,  0.,  0.,  0.,  0., 15., 15.,\n",
       "       14., 12.,  0.,  0.,  0.,  3., 10.,  1.,  0., 12.,  5.,  0.,  0.,\n",
       "        5.,  8.,  0.,  0.,  8.,  6.,  0.,  0.,  8.,  8.,  0.,  0.,  8.,\n",
       "        8.,  0.,  0.,  5.,  8.,  0.,  0., 10.,  6.,  0.,  0.,  4., 13.,\n",
       "        4.,  6., 13.,  0.,  0.,  0.,  0.,  6., 16., 14.,  3.,  0.,  0.])"
      ]
     },
     "execution_count": 12,
     "metadata": {},
     "output_type": "execute_result"
    }
   ],
   "source": [
    "i = 0\n",
    "y[1]*X_ext[1]"
   ]
  },
  {
   "cell_type": "code",
   "execution_count": 13,
   "id": "004d0a86",
   "metadata": {},
   "outputs": [
    {
     "data": {
      "text/plain": [
       "0.0"
      ]
     },
     "execution_count": 13,
     "metadata": {},
     "output_type": "execute_result"
    }
   ],
   "source": [
    "(1-(1/np.exp(-(weights_@X_ext[i])*y_train[i])))"
   ]
  },
  {
   "cell_type": "code",
   "execution_count": 19,
   "id": "ab47f89b",
   "metadata": {
    "scrolled": true
   },
   "outputs": [
    {
     "data": {
      "text/plain": [
       "(65,)"
      ]
     },
     "execution_count": 19,
     "metadata": {},
     "output_type": "execute_result"
    }
   ],
   "source": [
    "delta = np.zeros((65,))\n",
    "for i in range(X_ext.shape[0]): \n",
    "    sample = y[i]*X_ext[i]*(1-(1/(1+np.exp(-(weights_@X_ext[i])*y_train[i]))))\n",
    "    delta = np.vstack([result, sample])\n",
    "delta = (1/X_ext.shape[0])*delta.sum(axis=0) - (eta/C)*weights_\n",
    "delta.shape"
   ]
  },
  {
   "cell_type": "code",
   "execution_count": 215,
   "id": "e4a14a0e",
   "metadata": {},
   "outputs": [
    {
     "data": {
      "text/plain": [
       "(65,)"
      ]
     },
     "execution_count": 215,
     "metadata": {},
     "output_type": "execute_result"
    }
   ],
   "source": [
    "((eta/C)*weights_).shape"
   ]
  },
  {
   "cell_type": "code",
   "execution_count": 218,
   "id": "13a6b4ea",
   "metadata": {},
   "outputs": [
    {
     "data": {
      "text/plain": [
       "1.0"
      ]
     },
     "execution_count": 218,
     "metadata": {},
     "output_type": "execute_result"
    }
   ],
   "source": [
    "C"
   ]
  },
  {
   "cell_type": "code",
   "execution_count": null,
   "id": "64bade5a",
   "metadata": {
    "scrolled": true
   },
   "outputs": [],
   "source": [
    "y_train*X_ext"
   ]
  },
  {
   "cell_type": "code",
   "execution_count": null,
   "id": "186b02e6",
   "metadata": {},
   "outputs": [],
   "source": [
    "s = 3.1000e-06"
   ]
  },
  {
   "cell_type": "code",
   "execution_count": null,
   "id": "6e7309a2",
   "metadata": {},
   "outputs": [],
   "source": [
    "ss = 6.92307692e-05"
   ]
  },
  {
   "cell_type": "code",
   "execution_count": null,
   "id": "982aaa63",
   "metadata": {},
   "outputs": [],
   "source": [
    "s/ss"
   ]
  },
  {
   "cell_type": "code",
   "execution_count": null,
   "id": "3d0a1243",
   "metadata": {},
   "outputs": [],
   "source": [
    "ss/s"
   ]
  },
  {
   "cell_type": "code",
   "execution_count": null,
   "id": "8852a7d2",
   "metadata": {},
   "outputs": [],
   "source": [
    "(eta/num_features)"
   ]
  },
  {
   "cell_type": "code",
   "execution_count": null,
   "id": "b4d285c0",
   "metadata": {},
   "outputs": [],
   "source": [
    "len((eta/C)*weights_)"
   ]
  },
  {
   "cell_type": "code",
   "execution_count": null,
   "id": "8ed095fc",
   "metadata": {},
   "outputs": [],
   "source": [
    "1 - (1/(1+np.exp(-(weights_*X_ext).sum()))"
   ]
  },
  {
   "cell_type": "code",
   "execution_count": null,
   "id": "e5b59269",
   "metadata": {},
   "outputs": [],
   "source": [
    "(y_train@X_ext)*(eta/num_features)"
   ]
  },
  {
   "cell_type": "code",
   "execution_count": null,
   "id": "7c2ea35b",
   "metadata": {},
   "outputs": [],
   "source": [
    "delta = np.linalg.norm(next - weights_)"
   ]
  },
  {
   "cell_type": "code",
   "execution_count": null,
   "id": "d948d671",
   "metadata": {},
   "outputs": [],
   "source": [
    "next.shape"
   ]
  },
  {
   "cell_type": "code",
   "execution_count": null,
   "id": "90a57ff0",
   "metadata": {},
   "outputs": [],
   "source": [
    "next"
   ]
  },
  {
   "cell_type": "code",
   "execution_count": null,
   "id": "40ab4e44",
   "metadata": {},
   "outputs": [],
   "source": [
    "delta"
   ]
  },
  {
   "cell_type": "code",
   "execution_count": null,
   "id": "01009d40",
   "metadata": {},
   "outputs": [],
   "source": [
    "next"
   ]
  },
  {
   "cell_type": "code",
   "execution_count": null,
   "id": "6425ae47",
   "metadata": {},
   "outputs": [],
   "source": [
    "weights_"
   ]
  },
  {
   "cell_type": "code",
   "execution_count": null,
   "id": "cf74fef4",
   "metadata": {},
   "outputs": [],
   "source": []
  },
  {
   "cell_type": "code",
   "execution_count": null,
   "id": "47bbe451",
   "metadata": {},
   "outputs": [],
   "source": [
    "np.zeros((X.shape[1],1))"
   ]
  },
  {
   "cell_type": "code",
   "execution_count": null,
   "id": "99def414",
   "metadata": {},
   "outputs": [],
   "source": [
    "def get_sigmoid(X, weights):\n",
    "    def sigm(z):\n",
    "        return 1 / (1 + exp(-z))\n",
    "    lin = X@weights\n",
    "    return np.fromiter(map(sigm, lin), dtype='float')"
   ]
  },
  {
   "cell_type": "code",
   "execution_count": null,
   "id": "811d38c6",
   "metadata": {},
   "outputs": [],
   "source": [
    "delta = (1/num_features)*((get_sigmoid(X_ext, weights_)@X_ext - y))"
   ]
  },
  {
   "cell_type": "code",
   "execution_count": null,
   "id": "1c7a3f8b",
   "metadata": {},
   "outputs": [],
   "source": [
    "(get_sigmoid(X_ext, weights_)@X_ext - y_train)"
   ]
  },
  {
   "cell_type": "code",
   "execution_count": null,
   "id": "fb9a74af",
   "metadata": {
    "scrolled": true
   },
   "outputs": [],
   "source": [
    "((1/num_features)*(X_ext@get_sigmoid(X_ext, weights_)-y_train))"
   ]
  },
  {
   "cell_type": "code",
   "execution_count": null,
   "id": "2079c302",
   "metadata": {},
   "outputs": [],
   "source": [
    "(get_sigmoid(X_ext, weights_).T@X_ext).shape"
   ]
  },
  {
   "cell_type": "code",
   "execution_count": null,
   "id": "2379e4a3",
   "metadata": {},
   "outputs": [],
   "source": [
    "y_train.shape"
   ]
  },
  {
   "cell_type": "code",
   "execution_count": null,
   "id": "6006a556",
   "metadata": {},
   "outputs": [],
   "source": [
    "y_hat = [0.95, 0.7, 00.1, 0.33]\n",
    "[1 if e>0.5 else -1 for e in y_hat]"
   ]
  },
  {
   "cell_type": "code",
   "execution_count": null,
   "id": "816801ca",
   "metadata": {},
   "outputs": [],
   "source": [
    "1 - (1/(1+exp(-(weights_*X_ext).sum())))"
   ]
  },
  {
   "cell_type": "code",
   "execution_count": null,
   "id": "4b521e93",
   "metadata": {},
   "outputs": [],
   "source": [
    "(np.log(1+exp(-(weights_*X_ext).sum()))+(np.linalg.norm(weights_)**2)/(2*C))/(X_ext.shape[1])"
   ]
  },
  {
   "cell_type": "code",
   "execution_count": 43,
   "id": "a6e454d5",
   "metadata": {},
   "outputs": [
    {
     "data": {
      "text/plain": [
       "array([0., 0., 0., 0., 0., 0., 0., 0., 0., 0., 0., 0., 0., 0., 0., 0., 0.,\n",
       "       0., 0., 0., 0., 0., 0., 0., 0., 0., 0., 0., 0., 0., 0., 0., 0., 0.,\n",
       "       0., 0., 0., 0., 0., 0., 0., 0., 0., 0., 0., 0., 0., 0., 0., 0., 0.,\n",
       "       0., 0., 0., 0., 0., 0., 0., 0., 0., 0., 0., 0., 0., 0.])"
      ]
     },
     "execution_count": 43,
     "metadata": {},
     "output_type": "execute_result"
    }
   ],
   "source": [
    "#(weights_*X_ext)*y_train\n",
    "a = weights_*X_ext\n",
    "a.T@y_train\n"
   ]
  },
  {
   "cell_type": "code",
   "execution_count": 37,
   "id": "f0b53662",
   "metadata": {},
   "outputs": [
    {
     "data": {
      "text/plain": [
       "array([-1, -1, -1, ..., -1,  1,  1], dtype=int32)"
      ]
     },
     "execution_count": 37,
     "metadata": {},
     "output_type": "execute_result"
    }
   ],
   "source": [
    "y_train"
   ]
  },
  {
   "cell_type": "code",
   "execution_count": null,
   "id": "1b4b5e2c",
   "metadata": {},
   "outputs": [],
   "source": [
    "np.log(1+exp(-(weights_*X_ext).sum()))"
   ]
  },
  {
   "cell_type": "code",
   "execution_count": null,
   "id": "6618122b",
   "metadata": {},
   "outputs": [],
   "source": [
    "np.linalg.norm(weights_)**2"
   ]
  },
  {
   "cell_type": "code",
   "execution_count": null,
   "id": "1ed3615b",
   "metadata": {},
   "outputs": [],
   "source": [
    "(weights_).shape"
   ]
  },
  {
   "cell_type": "code",
   "execution_count": null,
   "id": "c9740e3f",
   "metadata": {},
   "outputs": [],
   "source": [
    "X_ext.shape"
   ]
  },
  {
   "cell_type": "code",
   "execution_count": 46,
   "id": "ef0a3fae",
   "metadata": {},
   "outputs": [
    {
     "data": {
      "text/plain": [
       "0.0"
      ]
     },
     "execution_count": 46,
     "metadata": {},
     "output_type": "execute_result"
    }
   ],
   "source": [
    "(np.inner(weights_, X_ext) * y_train).sum()"
   ]
  },
  {
   "cell_type": "code",
   "execution_count": 61,
   "id": "03cf0166",
   "metadata": {},
   "outputs": [
    {
     "data": {
      "text/plain": [
       "0.005059852845011129"
      ]
     },
     "execution_count": 61,
     "metadata": {},
     "output_type": "execute_result"
    }
   ],
   "source": [
    "(1/X_ext.shape[0])*np.log(1+np.exp(-((np.inner(weights_, X_ext[0,:]) * y_train))).sum())+\\\n",
    "                ((np.linalg.norm(weights_)**2)/(2*C))/X.shape[1]\n"
   ]
  },
  {
   "cell_type": "code",
   "execution_count": 58,
   "id": "a2c7ffe7",
   "metadata": {},
   "outputs": [
    {
     "data": {
      "text/plain": [
       "(1437,)"
      ]
     },
     "execution_count": 58,
     "metadata": {},
     "output_type": "execute_result"
    }
   ],
   "source": [
    "np.log(1+np.exp(-((np.inner(weights_, X_ext[0,:]) * y_train)))).shape"
   ]
  },
  {
   "cell_type": "code",
   "execution_count": 66,
   "id": "5c81e753",
   "metadata": {},
   "outputs": [
    {
     "data": {
      "text/plain": [
       "(1437,)"
      ]
     },
     "execution_count": 66,
     "metadata": {},
     "output_type": "execute_result"
    }
   ],
   "source": [
    "((weights_@X_ext[0,:])*y_train).shape"
   ]
  },
  {
   "cell_type": "code",
   "execution_count": 57,
   "id": "d98754ad",
   "metadata": {},
   "outputs": [
    {
     "data": {
      "text/plain": [
       "(65,)"
      ]
     },
     "execution_count": 57,
     "metadata": {},
     "output_type": "execute_result"
    }
   ],
   "source": [
    ".shape"
   ]
  },
  {
   "cell_type": "code",
   "execution_count": 70,
   "id": "d0e18ec5",
   "metadata": {},
   "outputs": [
    {
     "data": {
      "text/plain": [
       "array([-0., -0., -0., ..., -0.,  0.,  0.])"
      ]
     },
     "execution_count": 70,
     "metadata": {},
     "output_type": "execute_result"
    }
   ],
   "source": [
    "(X_ext@weights_)*y_train"
   ]
  },
  {
   "cell_type": "code",
   "execution_count": 71,
   "id": "e3244407",
   "metadata": {},
   "outputs": [
    {
     "data": {
      "text/plain": [
       "(1437,)"
      ]
     },
     "execution_count": 71,
     "metadata": {},
     "output_type": "execute_result"
    }
   ],
   "source": [
    "y_train.shape\n"
   ]
  },
  {
   "cell_type": "code",
   "execution_count": 80,
   "id": "b2e9c4d1",
   "metadata": {},
   "outputs": [
    {
     "data": {
      "text/plain": [
       "(65,)"
      ]
     },
     "execution_count": 80,
     "metadata": {},
     "output_type": "execute_result"
    }
   ],
   "source": [
    "X_ext[0,:].shape"
   ]
  },
  {
   "cell_type": "code",
   "execution_count": 82,
   "id": "90fb614b",
   "metadata": {},
   "outputs": [
    {
     "data": {
      "text/plain": [
       "(65,)"
      ]
     },
     "execution_count": 82,
     "metadata": {},
     "output_type": "execute_result"
    }
   ],
   "source": [
    "X_ext[0].shape"
   ]
  },
  {
   "cell_type": "code",
   "execution_count": 84,
   "id": "87fc3245",
   "metadata": {},
   "outputs": [
    {
     "data": {
      "text/plain": [
       "(65,)"
      ]
     },
     "execution_count": 84,
     "metadata": {},
     "output_type": "execute_result"
    }
   ],
   "source": [
    "weights_.shape"
   ]
  },
  {
   "cell_type": "code",
   "execution_count": 93,
   "id": "b352d5a4",
   "metadata": {},
   "outputs": [
    {
     "data": {
      "text/plain": [
       "-0.0"
      ]
     },
     "execution_count": 93,
     "metadata": {},
     "output_type": "execute_result"
    }
   ],
   "source": [
    "weights_@X_ext[0]*y_train[0]"
   ]
  },
  {
   "cell_type": "code",
   "execution_count": 91,
   "id": "f9bc4971",
   "metadata": {},
   "outputs": [
    {
     "data": {
      "text/plain": [
       "(65,)"
      ]
     },
     "execution_count": 91,
     "metadata": {},
     "output_type": "execute_result"
    }
   ],
   "source": [
    "(y_train[0]*X_ext[0]*(0.5)).shape"
   ]
  },
  {
   "cell_type": "code",
   "execution_count": 105,
   "id": "d0348764",
   "metadata": {},
   "outputs": [
    {
     "name": "stderr",
     "output_type": "stream",
     "text": [
      "C:\\Users\\User\\AppData\\Local\\Temp\\ipykernel_24116\\11077261.py:1: RuntimeWarning: divide by zero encountered in log\n",
      "  np.log(-(weights_@X_ext.T*y_train))\n"
     ]
    },
    {
     "data": {
      "text/plain": [
       "array([-inf, -inf, -inf, ..., -inf, -inf, -inf])"
      ]
     },
     "execution_count": 105,
     "metadata": {},
     "output_type": "execute_result"
    }
   ],
   "source": [
    "np.log(-(weights_@X_ext.T*y_train))"
   ]
  },
  {
   "cell_type": "code",
   "execution_count": null,
   "id": "01d8ea56",
   "metadata": {},
   "outputs": [],
   "source": [
    "# (1/X_ext.shape[0])*np.log(1+np.exp(-((self.weights_@X_ext.T)*y_train)))+\\\n",
    "#                 ((np.linalg.norm(weights)**2)/(2*self.C))/X.shape[1]"
   ]
  },
  {
   "cell_type": "code",
   "execution_count": 128,
   "id": "a3e442ff",
   "metadata": {},
   "outputs": [
    {
     "data": {
      "text/plain": [
       "0.6931471805599453"
      ]
     },
     "execution_count": 128,
     "metadata": {},
     "output_type": "execute_result"
    }
   ],
   "source": [
    "np.log(1+(np.exp(-((weights_@X_ext.T)*y_train)))).sum()/1437"
   ]
  },
  {
   "cell_type": "code",
   "execution_count": 159,
   "id": "3d762e09",
   "metadata": {},
   "outputs": [],
   "source": [
    "w = weights_\n",
    "w = 0.0001"
   ]
  },
  {
   "cell_type": "code",
   "execution_count": 157,
   "id": "fabc240f",
   "metadata": {},
   "outputs": [
    {
     "data": {
      "text/plain": [
       "0.6934355105644995"
      ]
     },
     "execution_count": 157,
     "metadata": {},
     "output_type": "execute_result"
    }
   ],
   "source": [
    "np.log(1+(np.exp(-((w@X_ext.T)*y_train)))).sum()/1437"
   ]
  },
  {
   "cell_type": "code",
   "execution_count": 161,
   "id": "41a793f1",
   "metadata": {},
   "outputs": [
    {
     "data": {
      "text/plain": [
       "996.4668286811857"
      ]
     },
     "execution_count": 161,
     "metadata": {},
     "output_type": "execute_result"
    }
   ],
   "source": [
    "np.log(1+np.exp(-(weights_@X_ext.T)*y_train)).sum()"
   ]
  },
  {
   "cell_type": "code",
   "execution_count": 139,
   "id": "7187bc59",
   "metadata": {},
   "outputs": [
    {
     "data": {
      "text/plain": [
       "array([1.e-05, 1.e-05, 1.e-05, 1.e-05, 1.e-05, 1.e-05, 1.e-05, 1.e-05,\n",
       "       1.e-05, 1.e-05, 1.e-05, 1.e-05, 1.e-05, 1.e-05, 1.e-05, 1.e-05,\n",
       "       1.e-05, 1.e-05, 1.e-05, 1.e-05, 1.e-05, 1.e-05, 1.e-05, 1.e-05,\n",
       "       1.e-05, 1.e-05, 1.e-05, 1.e-05, 1.e-05, 1.e-05, 1.e-05, 1.e-05,\n",
       "       1.e-05, 1.e-05, 1.e-05, 1.e-05, 1.e-05, 1.e-05, 1.e-05, 1.e-05,\n",
       "       1.e-05, 1.e-05, 1.e-05, 1.e-05, 1.e-05, 1.e-05, 1.e-05, 1.e-05,\n",
       "       1.e-05, 1.e-05, 1.e-05, 1.e-05, 1.e-05, 1.e-05, 1.e-05, 1.e-05,\n",
       "       1.e-05, 1.e-05, 1.e-05, 1.e-05, 1.e-05, 1.e-05, 1.e-05, 1.e-05,\n",
       "       1.e-05])"
      ]
     },
     "execution_count": 139,
     "metadata": {},
     "output_type": "execute_result"
    }
   ],
   "source": []
  },
  {
   "cell_type": "code",
   "execution_count": 182,
   "id": "1714bc5d",
   "metadata": {},
   "outputs": [
    {
     "data": {
      "text/plain": [
       "array([-6.45661235e+03, -0.00000000e+00, -8.60881647e+04, -1.12918976e+06,\n",
       "       -4.56267273e+05, -1.00507932e+06, -2.79930015e+06, -1.23249556e+06,\n",
       "       -1.16219022e+05,  1.43480274e+03, -3.48657067e+05, -5.19398593e+05,\n",
       "        9.01056123e+05, -7.46097427e+05, -2.07185516e+06, -8.71642667e+05,\n",
       "       -5.30877015e+04, -7.17401372e+02,  2.36742453e+04,  1.49362966e+06,\n",
       "        5.40203233e+05, -1.80498185e+06, -8.56577238e+05,  1.73611132e+05,\n",
       "        1.07610206e+04, -0.00000000e+00,  4.56984674e+05,  1.17797305e+06,\n",
       "       -2.03239809e+06, -2.78495213e+06, -1.03521018e+06,  3.51526672e+05,\n",
       "        2.15220412e+03, -0.00000000e+00,  1.39821527e+06,  2.16798695e+06,\n",
       "        9.18273756e+04, -7.66184665e+05, -8.68055660e+05,  1.68589322e+05,\n",
       "       -0.00000000e+00,  1.07610206e+04,  1.10121111e+06,  4.20468944e+06,\n",
       "        1.73826352e+06, -2.14503010e+05,  2.55394888e+05,  3.68744305e+05,\n",
       "        2.72612521e+04,  9.32621784e+03,  1.94415772e+05,  2.29424959e+06,\n",
       "        1.04955821e+06,  4.50528062e+05,  1.15573361e+06,  8.15685360e+05,\n",
       "        3.65874700e+04,  7.17401372e+02, -5.52399057e+04, -1.31786632e+06,\n",
       "       -3.73048714e+05,  1.51873870e+06,  1.11197213e+06,  7.64032461e+05,\n",
       "        5.81095111e+04])"
      ]
     },
     "execution_count": 182,
     "metadata": {},
     "output_type": "execute_result"
    }
   ],
   "source": [
    "(y_train@X_ext)*(1 - (1/(1+np.exp(-(weights_@X_ext.T)*y_train))).sum())"
   ]
  },
  {
   "cell_type": "code",
   "execution_count": 183,
   "id": "f0dbf0b0",
   "metadata": {},
   "outputs": [
    {
     "data": {
      "text/plain": [
       "array([ 8.99686985e+00,  0.00000000e+00,  1.19958265e+02,  1.57345257e+03,\n",
       "        6.35778803e+02,  1.40051274e+03,  3.90064291e+03,  1.71740249e+03,\n",
       "        1.61943657e+02, -1.99930441e+00,  4.85830972e+02,  7.23748197e+02,\n",
       "       -1.25556317e+03,  1.03963829e+03,  2.88699557e+03,  1.21457743e+03,\n",
       "        7.39742632e+01,  9.99652206e-01, -3.29885228e+01, -2.08127589e+03,\n",
       "       -7.52738111e+02,  2.51512495e+03,  1.19358473e+03, -2.41915834e+02,\n",
       "       -1.49947831e+01,  0.00000000e+00, -6.36778455e+02, -1.64142892e+03,\n",
       "        2.83201470e+03,  3.88064986e+03,  1.44249813e+03, -4.89829581e+02,\n",
       "       -2.99895662e+00,  0.00000000e+00, -1.94832215e+03, -3.02094897e+03,\n",
       "       -1.27955482e+02,  1.06762856e+03,  1.20957917e+03, -2.34918268e+02,\n",
       "        0.00000000e+00, -1.49947831e+01, -1.53446614e+03, -5.85896158e+03,\n",
       "       -2.42215729e+03,  2.98896010e+02, -3.55876185e+02, -5.13821234e+02,\n",
       "       -3.79867838e+01, -1.29954787e+01, -2.70905748e+02, -3.19688775e+03,\n",
       "       -1.46249118e+03, -6.27781585e+02, -1.61043970e+03, -1.13660456e+03,\n",
       "       -5.09822625e+01, -9.99652206e-01,  7.69732198e+01,  1.83636110e+03,\n",
       "        5.19819147e+02, -2.11626372e+03, -1.54946092e+03, -1.06462960e+03,\n",
       "       -8.09718287e+01])"
      ]
     },
     "execution_count": 183,
     "metadata": {},
     "output_type": "execute_result"
    }
   ],
   "source": [
    "(y_train@X_ext)*(1 - 1/(1+np.exp(-((weights_@X_ext.T)*y_train))).sum())"
   ]
  },
  {
   "cell_type": "code",
   "execution_count": 12,
   "id": "61899af7",
   "metadata": {},
   "outputs": [
    {
     "data": {
      "text/plain": [
       "array([[ 1.,  0.,  0., ..., 13.,  4.,  0.],\n",
       "       [ 1.,  0.,  0., ...,  3.,  0.,  0.],\n",
       "       [ 1.,  0.,  0., ...,  6.,  0.,  0.],\n",
       "       ...,\n",
       "       [ 1.,  0.,  0., ..., 16.,  2.,  0.],\n",
       "       [ 1.,  0.,  0., ...,  0.,  0.,  0.],\n",
       "       [ 1.,  0.,  0., ...,  1.,  0.,  0.]])"
      ]
     },
     "execution_count": 12,
     "metadata": {},
     "output_type": "execute_result"
    }
   ],
   "source": [
    "X_ext"
   ]
  },
  {
   "cell_type": "code",
   "execution_count": 13,
   "id": "5a54d214",
   "metadata": {},
   "outputs": [],
   "source": [
    "X_train = np.array([\n",
    "[160,50],\n",
    "[160,70],\n",
    "[170,60],\n",
    "[170,80],\n",
    "[180,70],\n",
    "[180,90],\n",
    "[190,80],\n",
    "[190,100]])"
   ]
  },
  {
   "cell_type": "code",
   "execution_count": 14,
   "id": "6b15bbee",
   "metadata": {},
   "outputs": [],
   "source": [
    "y_train = [-1,1,-1,1,-1,1,-1,1]"
   ]
  },
  {
   "cell_type": "code",
   "execution_count": 15,
   "id": "f309b939",
   "metadata": {},
   "outputs": [],
   "source": [
    "X_ext = np.hstack([np.ones((X_train.shape[0], 1)), X_train])"
   ]
  },
  {
   "cell_type": "code",
   "execution_count": 17,
   "id": "53601f8f",
   "metadata": {},
   "outputs": [
    {
     "data": {
      "text/plain": [
       "array([[  1., 160.,  50.],\n",
       "       [  1., 160.,  70.],\n",
       "       [  1., 170.,  60.],\n",
       "       [  1., 170.,  80.],\n",
       "       [  1., 180.,  70.],\n",
       "       [  1., 180.,  90.],\n",
       "       [  1., 190.,  80.],\n",
       "       [  1., 190., 100.]])"
      ]
     },
     "execution_count": 17,
     "metadata": {},
     "output_type": "execute_result"
    }
   ],
   "source": [
    "X_ext"
   ]
  },
  {
   "cell_type": "code",
   "execution_count": 18,
   "id": "5f6a2a71",
   "metadata": {},
   "outputs": [],
   "source": [
    "num_features = X_ext.shape[1]"
   ]
  },
  {
   "cell_type": "code",
   "execution_count": 20,
   "id": "6c8cb705",
   "metadata": {},
   "outputs": [],
   "source": [
    "weights_ = np.zeros(num_features)"
   ]
  },
  {
   "cell_type": "code",
   "execution_count": 23,
   "id": "d0fd81ba",
   "metadata": {},
   "outputs": [],
   "source": [
    "delta = (1/X_ext.shape[0])*(y_train@X_ext)*\\\n",
    "                (1 - 1/(1+np.exp(-((weights_@X_ext.T)*y_train))).sum()) - ((eta/C)*weights_)"
   ]
  },
  {
   "cell_type": "code",
   "execution_count": 24,
   "id": "6d578f2b",
   "metadata": {},
   "outputs": [
    {
     "data": {
      "text/plain": [
       "array([0.   , 0.   , 9.375])"
      ]
     },
     "execution_count": 24,
     "metadata": {},
     "output_type": "execute_result"
    }
   ],
   "source": [
    "delta"
   ]
  },
  {
   "cell_type": "code",
   "execution_count": 25,
   "id": "fd1f00a0",
   "metadata": {},
   "outputs": [],
   "source": [
    "X_test = [[160,100], [170,100], [180,50], [190,50]]\n",
    "y_test = [1,1,-1,-1]"
   ]
  },
  {
   "cell_type": "code",
   "execution_count": 26,
   "id": "20670299",
   "metadata": {},
   "outputs": [],
   "source": [
    "delta = - delta"
   ]
  },
  {
   "cell_type": "code",
   "execution_count": 29,
   "id": "92358b6c",
   "metadata": {},
   "outputs": [
    {
     "data": {
      "text/plain": [
       "array([0.     , 0.     , 0.01875])"
      ]
     },
     "execution_count": 29,
     "metadata": {},
     "output_type": "execute_result"
    }
   ],
   "source": [
    "weights_ -= eta * delta\n",
    "weights_"
   ]
  },
  {
   "cell_type": "code",
   "execution_count": 31,
   "id": "c542979e",
   "metadata": {},
   "outputs": [
    {
     "data": {
      "text/plain": [
       "0.8348185030602405"
      ]
     },
     "execution_count": 31,
     "metadata": {},
     "output_type": "execute_result"
    }
   ],
   "source": [
    "(1/X_ext.shape[0])*np.log(1+np.exp(-(weights_@X_ext.T)*y_train)).sum()+\\\n",
    "                ((np.linalg.norm(weights_)**2)/(2*C))/X.shape[1]"
   ]
  },
  {
   "cell_type": "code",
   "execution_count": 32,
   "id": "c46ab68b",
   "metadata": {},
   "outputs": [
    {
     "data": {
      "text/plain": [
       "9.375"
      ]
     },
     "execution_count": 32,
     "metadata": {},
     "output_type": "execute_result"
    }
   ],
   "source": [
    "np.linalg.norm(delta)"
   ]
  },
  {
   "cell_type": "code",
   "execution_count": 33,
   "id": "0ac45f58",
   "metadata": {},
   "outputs": [],
   "source": [
    "delta = (1/X_ext.shape[0])*(y_train@X_ext)*\\\n",
    "                (1 - 1/(1+np.exp(-((weights_@X_ext.T)*y_train))).sum()) - ((eta/C)*weights_)"
   ]
  },
  {
   "cell_type": "code",
   "execution_count": 34,
   "id": "5392a0c4",
   "metadata": {},
   "outputs": [
    {
     "data": {
      "text/plain": [
       "array([0.        , 0.        , 9.55870534])"
      ]
     },
     "execution_count": 34,
     "metadata": {},
     "output_type": "execute_result"
    }
   ],
   "source": [
    "delta"
   ]
  },
  {
   "cell_type": "code",
   "execution_count": 35,
   "id": "fb4c24df",
   "metadata": {},
   "outputs": [
    {
     "data": {
      "text/plain": [
       "array([0.        , 0.        , 0.02830871])"
      ]
     },
     "execution_count": 35,
     "metadata": {},
     "output_type": "execute_result"
    }
   ],
   "source": [
    "delta = - delta\n",
    "weights_ -= eta * delta\n",
    "weights_"
   ]
  },
  {
   "cell_type": "code",
   "execution_count": 36,
   "id": "f2438824",
   "metadata": {},
   "outputs": [
    {
     "data": {
      "text/plain": [
       "1.0417810826121863"
      ]
     },
     "execution_count": 36,
     "metadata": {},
     "output_type": "execute_result"
    }
   ],
   "source": [
    "(1/X_ext.shape[0])*np.log(1+np.exp(-(weights_@X_ext.T)*y_train)).sum()+\\\n",
    "                ((np.linalg.norm(weights_)**2)/(2*C))/X.shape[1]"
   ]
  },
  {
   "cell_type": "code",
   "execution_count": 46,
   "id": "7b826000",
   "metadata": {},
   "outputs": [],
   "source": [
    "def get_sigmoid(X, weights):\n",
    "    def sigm(z):\n",
    "        return 1 / (1 + np.exp(-z))\n",
    "    lin = X@weights\n",
    "    return np.fromiter(map(sigm, lin), dtype='float')"
   ]
  },
  {
   "cell_type": "code",
   "execution_count": 47,
   "id": "c896a6c6",
   "metadata": {},
   "outputs": [],
   "source": [
    "def predict_proba(X, weights_):\n",
    "    \"\"\"Predict positive class probabilities.\n",
    "\n",
    "    Args:\n",
    "        X: numpy array of shape (n_samples, n_features)\n",
    "    Returns:\n",
    "        y: numpy array of shape (n_samples,)\n",
    "            Vector containing positive class probabilities.\n",
    "    \"\"\"\n",
    "    return get_sigmoid(X_ext, weights_)"
   ]
  },
  {
   "cell_type": "code",
   "execution_count": 48,
   "id": "5562085d",
   "metadata": {},
   "outputs": [
    {
     "data": {
      "text/plain": [
       "[1, 1, 1, 1, 1, 1, 1, 1]"
      ]
     },
     "execution_count": 48,
     "metadata": {},
     "output_type": "execute_result"
    }
   ],
   "source": [
    "[1 if e>0.5 else -1 for e in predict_proba(X_test, weights_)]"
   ]
  },
  {
   "cell_type": "code",
   "execution_count": 49,
   "id": "fb46597e",
   "metadata": {},
   "outputs": [],
   "source": [
    "delta = (1/X_ext.shape[0])*(y_train@X_ext)*\\\n",
    "                (1 - 1/(1+np.exp(-((weights_@X_ext.T)*y_train))).sum()) - ((eta/C)*weights_)"
   ]
  },
  {
   "cell_type": "code",
   "execution_count": 50,
   "id": "d8a7a185",
   "metadata": {},
   "outputs": [
    {
     "data": {
      "text/plain": [
       "array([0.        , 0.        , 9.71299206])"
      ]
     },
     "execution_count": 50,
     "metadata": {},
     "output_type": "execute_result"
    }
   ],
   "source": [
    "delta"
   ]
  },
  {
   "cell_type": "code",
   "execution_count": 51,
   "id": "3a0631fc",
   "metadata": {},
   "outputs": [
    {
     "data": {
      "text/plain": [
       "array([0.       , 0.       , 0.0380217])"
      ]
     },
     "execution_count": 51,
     "metadata": {},
     "output_type": "execute_result"
    }
   ],
   "source": [
    "delta = - delta\n",
    "weights_ -= eta * delta\n",
    "weights_"
   ]
  },
  {
   "cell_type": "code",
   "execution_count": 124,
   "id": "69c816c2",
   "metadata": {
    "scrolled": true
   },
   "outputs": [
    {
     "name": "stderr",
     "output_type": "stream",
     "text": [
      "C:\\Users\\boobo\\AppData\\Local\\Temp/ipykernel_1536/4180924997.py:2: RuntimeWarning: overflow encountered in exp\n",
      "  (1 - 1/(1+np.exp(-((weights_@X_ext.T)*y_train))).sum()) - ((eta/C)*weights_)\n"
     ]
    },
    {
     "data": {
      "text/plain": [
       "array([ 0.,  0., 10.])"
      ]
     },
     "execution_count": 124,
     "metadata": {},
     "output_type": "execute_result"
    }
   ],
   "source": [
    "delta = (1/X_ext.shape[0])*(y_train@X_ext)*\\\n",
    "                (1 - 1/(1+np.exp(-((weights_@X_ext.T)*y_train))).sum()) - ((eta/C)*weights_)\n",
    "delta = - delta\n",
    "weights_ -= eta * delta\n",
    "weights_"
   ]
  },
  {
   "cell_type": "code",
   "execution_count": 122,
   "id": "ce5ff174",
   "metadata": {},
   "outputs": [
    {
     "name": "stderr",
     "output_type": "stream",
     "text": [
      "C:\\Users\\boobo\\AppData\\Local\\Temp/ipykernel_1536/2689590769.py:1: RuntimeWarning: overflow encountered in exp\n",
      "  (1/X_ext.shape[0])*np.log(1+np.exp(-(weights_@X_ext.T)*y_train)).sum()+\\\n"
     ]
    },
    {
     "data": {
      "text/plain": [
       "inf"
      ]
     },
     "execution_count": 122,
     "metadata": {},
     "output_type": "execute_result"
    }
   ],
   "source": [
    "(1/X_ext.shape[0])*np.log(1+np.exp(-(weights_@X_ext.T)*y_train)).sum()+\\\n",
    "                ((np.linalg.norm(weights_)**2)/(2*C))/X.shape[1]"
   ]
  },
  {
   "cell_type": "code",
   "execution_count": 116,
   "id": "8c689123",
   "metadata": {},
   "outputs": [],
   "source": [
    "eta = 1"
   ]
  },
  {
   "cell_type": "code",
   "execution_count": 123,
   "id": "df8ba2c6",
   "metadata": {},
   "outputs": [
    {
     "data": {
      "text/plain": [
       "[1, 1, 1, 1, 1, 1, 1, 1]"
      ]
     },
     "execution_count": 123,
     "metadata": {},
     "output_type": "execute_result"
    }
   ],
   "source": [
    "[1 if e>0.5 else -1 for e in predict_proba(X_test, weights_)]"
   ]
  },
  {
   "cell_type": "code",
   "execution_count": 44,
   "id": "733cfcb9",
   "metadata": {},
   "outputs": [
    {
     "ename": "NameError",
     "evalue": "name 'fit_evaluate' is not defined",
     "output_type": "error",
     "traceback": [
      "\u001b[1;31m---------------------------------------------------------------------------\u001b[0m",
      "\u001b[1;31mNameError\u001b[0m                                 Traceback (most recent call last)",
      "\u001b[1;32m~\\AppData\\Local\\Temp/ipykernel_6140/655422625.py\u001b[0m in \u001b[0;36m<module>\u001b[1;34m\u001b[0m\n\u001b[1;32m----> 1\u001b[1;33m \u001b[0mtrain_acc\u001b[0m\u001b[1;33m,\u001b[0m \u001b[0mtest_acc\u001b[0m \u001b[1;33m=\u001b[0m \u001b[0mfit_evaluate\u001b[0m\u001b[1;33m(\u001b[0m\u001b[0mmodel\u001b[0m\u001b[1;33m,\u001b[0m \u001b[0mX_train\u001b[0m\u001b[1;33m,\u001b[0m \u001b[0my_train\u001b[0m\u001b[1;33m,\u001b[0m \u001b[0mX_test\u001b[0m\u001b[1;33m,\u001b[0m \u001b[0my_test\u001b[0m\u001b[1;33m)\u001b[0m\u001b[1;33m\u001b[0m\u001b[1;33m\u001b[0m\u001b[0m\n\u001b[0m",
      "\u001b[1;31mNameError\u001b[0m: name 'fit_evaluate' is not defined"
     ]
    }
   ],
   "source": [
    "train_acc, test_acc = fit_evaluate(model, X_train, y_train, X_test, y_test)"
   ]
  },
  {
   "cell_type": "code",
   "execution_count": 62,
   "id": "1b893d74",
   "metadata": {},
   "outputs": [],
   "source": [
    "a = [2,3,1]"
   ]
  },
  {
   "cell_type": "code",
   "execution_count": 63,
   "id": "f735d30d",
   "metadata": {},
   "outputs": [],
   "source": [
    "b = a.copy()"
   ]
  },
  {
   "cell_type": "code",
   "execution_count": 64,
   "id": "9aa2bb55",
   "metadata": {},
   "outputs": [],
   "source": [
    "b.sort()"
   ]
  },
  {
   "cell_type": "code",
   "execution_count": 65,
   "id": "5772ada4",
   "metadata": {},
   "outputs": [
    {
     "data": {
      "text/plain": [
       "[2, 3, 1]"
      ]
     },
     "execution_count": 65,
     "metadata": {},
     "output_type": "execute_result"
    }
   ],
   "source": [
    "a"
   ]
  },
  {
   "cell_type": "code",
   "execution_count": 66,
   "id": "ba206aaf",
   "metadata": {},
   "outputs": [
    {
     "data": {
      "text/plain": [
       "[1, 2, 3]"
      ]
     },
     "execution_count": 66,
     "metadata": {},
     "output_type": "execute_result"
    }
   ],
   "source": [
    "b"
   ]
  },
  {
   "cell_type": "code",
   "execution_count": 68,
   "id": "92978a67",
   "metadata": {},
   "outputs": [],
   "source": [
    "r = np.random.RandomState(seed=42)"
   ]
  },
  {
   "cell_type": "code",
   "execution_count": 70,
   "id": "9bac876a",
   "metadata": {},
   "outputs": [],
   "source": [
    "weight_threshold = 1.0 / (2 * 65)"
   ]
  },
  {
   "cell_type": "code",
   "execution_count": 71,
   "id": "9790f3dd",
   "metadata": {},
   "outputs": [
    {
     "data": {
      "text/plain": [
       "array([-1.93015202e-03,  6.93406625e-03,  3.56913757e-03,  1.51782283e-03,\n",
       "       -5.29202092e-03, -5.29239199e-03, -6.79871366e-03,  5.63347917e-03,\n",
       "        1.55561557e-03,  3.20111658e-03, -7.37562316e-03,  7.22938234e-03,\n",
       "        5.11450217e-03, -4.42555214e-03, -4.89500050e-03, -4.87069985e-03,\n",
       "       -3.01165780e-03,  3.80868179e-04, -1.04699971e-03, -3.21185938e-03,\n",
       "        1.72081376e-03, -5.54624830e-03, -3.19777464e-03, -2.05597164e-03,\n",
       "       -6.75846397e-04,  4.38732248e-03, -4.62040335e-03,  2.18991360e-04,\n",
       "        1.42176260e-03, -6.97768596e-03,  1.65453618e-03, -5.06885964e-03,\n",
       "       -6.69151395e-03,  6.90593134e-03,  7.16356974e-03,  4.74457459e-03,\n",
       "       -3.00594201e-03, -6.18965978e-03,  2.83435425e-03, -9.20730866e-04,\n",
       "       -5.81479639e-03, -7.42013829e-05, -7.16325352e-03,  6.29723696e-03,\n",
       "       -3.71107721e-03,  2.50034284e-03, -2.89675268e-03,  3.08738787e-04,\n",
       "        7.18619682e-04, -4.84839299e-03,  7.22437889e-03,  4.23281267e-03,\n",
       "        6.76152218e-03,  6.07426693e-03,  1.50615352e-03,  6.49037285e-03,\n",
       "       -6.33088458e-03, -4.67718673e-03, -6.99650325e-03, -2.68722568e-03,\n",
       "       -1.71265708e-03, -3.51770720e-03,  5.05750014e-03, -2.20379497e-03,\n",
       "       -3.37023831e-03])"
      ]
     },
     "execution_count": 71,
     "metadata": {},
     "output_type": "execute_result"
    }
   ],
   "source": [
    "r.uniform(low=-weight_threshold, high=weight_threshold, size=num_features)"
   ]
  },
  {
   "cell_type": "code",
   "execution_count": null,
   "id": "94d82340",
   "metadata": {},
   "outputs": [],
   "source": []
  }
 ],
 "metadata": {
  "kernelspec": {
   "display_name": "Python 3 (ipykernel)",
   "language": "python",
   "name": "python3"
  },
  "language_info": {
   "codemirror_mode": {
    "name": "ipython",
    "version": 3
   },
   "file_extension": ".py",
   "mimetype": "text/x-python",
   "name": "python",
   "nbconvert_exporter": "python",
   "pygments_lexer": "ipython3",
   "version": "3.9.7"
  }
 },
 "nbformat": 4,
 "nbformat_minor": 5
}
