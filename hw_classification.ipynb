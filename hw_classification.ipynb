{
 "cells": [
  {
   "cell_type": "markdown",
   "metadata": {},
   "source": [
    "# Classification. Linear models and KNN"
   ]
  },
  {
   "cell_type": "code",
   "execution_count": 1,
   "metadata": {},
   "outputs": [],
   "source": [
    "import os\n",
    "import math\n",
    "import numpy as np\n",
    "import pandas as pd\n",
    "import seaborn as sns\n",
    "import matplotlib.pyplot as plt\n",
    "from math import sqrt, exp"
   ]
  },
  {
   "cell_type": "code",
   "execution_count": 2,
   "metadata": {},
   "outputs": [],
   "source": [
    "from sklearn.pipeline import Pipeline\n",
    "from sklearn.compose import ColumnTransformer\n",
    "from sklearn.model_selection import train_test_split, cross_validate\n",
    "from sklearn.metrics import plot_confusion_matrix, accuracy_score\n",
    "from sklearn.neighbors import KNeighborsClassifier\n",
    "from sklearn.preprocessing import StandardScaler, OneHotEncoder\n",
    "from sklearn.linear_model import LogisticRegression"
   ]
  },
  {
   "cell_type": "markdown",
   "metadata": {},
   "source": [
    "## Part 1: Implementing Logistic Regression"
   ]
  },
  {
   "cell_type": "markdown",
   "metadata": {},
   "source": [
    "In this task you need to implement Logistic Regression with l2 regularization using gradient descent algorithm."
   ]
  },
  {
   "cell_type": "markdown",
   "metadata": {},
   "source": [
    "Logistic Regression loss:\n",
    "$$ L(w) = \\dfrac{1}{N}\\sum_{i=1}^N \\log(1 + e^{-\\langle w, x_i \\rangle y_i}) + \\frac{1}{2C} \\lVert w \\rVert^2  \\to \\min_w$$\n",
    "$$\\langle w, x_i \\rangle = \\sum_{j=1}^n w_{j}x_{ij} + w_{0},$$ $$ y_{i} \\in \\{-1, 1\\}$$ where $n$ is the number of features and $N$ is the number of samples."
   ]
  },
  {
   "cell_type": "markdown",
   "metadata": {},
   "source": [
    "Gradient descent step:\n",
    "$$w^{(t+1)} := w^{(t)} + \\dfrac{\\eta}{N}\\sum_{i=1}^N y_ix_i \\Big(1 - \\dfrac{1}{1 + exp(-\\langle w^{(t)}, x_i \\rangle y_i)}\\Big) - \\eta \\frac{1}{C} w,$$\n",
    "where $\\eta$ is the learning rate."
   ]
  },
  {
   "cell_type": "markdown",
   "metadata": {},
   "source": [
    "**(2 points)** Implement the algorithm and use it to classify the digits (https://scikit-learn.org/stable/modules/generated/sklearn.datasets.load_digits.html) into \"even\" and \"odd\" categories. \"Even\" and \"Odd\" classes  should correspond to {-1, 1} labels."
   ]
  },
  {
   "cell_type": "markdown",
   "metadata": {},
   "source": [
    "Stopping criteria: either the number of iterations exceeds *max_iter* or $||w^{(t+1)} - w^{(t)}||_2 < tol$."
   ]
  },
  {
   "cell_type": "code",
   "execution_count": 3,
   "metadata": {},
   "outputs": [],
   "source": [
    "from sklearn.exceptions import NotFittedError"
   ]
  },
  {
   "cell_type": "code",
   "execution_count": 400,
   "metadata": {},
   "outputs": [],
   "source": [
    "# import warnings\n",
    "\n",
    "# #suppress warnings\n",
    "# warnings.filterwarnings('ignore')\n",
    "\n",
    "class CustomLogisticRegression:\n",
    "    _estimator_type = \"classifier\"\n",
    "    \n",
    "    def __init__(self, eta=0.001, max_iter=1000, C=1.0, tol=1e-5, random_state=42, zero_init=False):\n",
    "        \"\"\"Logistic Regression classifier.\n",
    "        \n",
    "        Args:\n",
    "            eta: float, default=0.001\n",
    "                Learning rate.\n",
    "            max_iter: int, default=1000\n",
    "                Maximum number of iterations taken for the solvers to converge.\n",
    "            C: float, default=1.0\n",
    "                Inverse of regularization strength; must be a positive float.\n",
    "                Smaller values specify stronger regularization.\n",
    "            tol: float, default=1e-5\n",
    "                Tolerance for stopping criteria.\n",
    "            random_state: int, default=42\n",
    "                Random state.\n",
    "            zero_init: bool, default=False\n",
    "                Zero weight initialization.\n",
    "        \"\"\"\n",
    "        self.eta = eta\n",
    "        self.max_iter = max_iter\n",
    "        self.C = C\n",
    "        self.tol = tol\n",
    "        self.random_state = np.random.RandomState(seed=random_state)\n",
    "        self.zero_init = zero_init\n",
    "        self.X_ext = None\n",
    "        self.loss_hist = []\n",
    "         \n",
    "    def get_sigmoid(self, X, weights):\n",
    "        def sigm(z):\n",
    "            return 1 / (1 + exp(-z))\n",
    "        lin = X@weights\n",
    "        return np.fromiter(map(sigm, lin), dtype='float')\n",
    "    \n",
    "    def get_loss(self, x, weights, y):\n",
    "        \"\"\"Calculate the loss.\"\"\"\n",
    "#         X_ext = self.X_ext\n",
    "        X_ext = self.X_ext\n",
    "        return (1/X_ext.shape[0])*np.log(1+np.exp(-(weights@X_ext.T)*y_train)).sum()+\\\n",
    "                ((np.linalg.norm(weights)**2)/(2*self.C))/X.shape[1]\n",
    "        np.log(1+np.exp(-(weights_@X_ext.T)*y_train)).sum()\n",
    "#         f = (weights * X_ext).sum()\n",
    "#         L = [np.log(1+np.exp(-f*i)) for i in y]\n",
    "#         #print(L)\n",
    "#         return sum([np.log(1+np.exp(-f*i)) for i in y])\n",
    "#         def loss(self, h, y):\n",
    "#             return (-y * np.log(h) - (1 - y) * np.log(1 - h)).mean()\n",
    "#         f = (weights * X_ext).sum()\n",
    "        \n",
    "        \n",
    "     \n",
    "    def fit(self, X, y):\n",
    "        from mpmath import mp\n",
    "        \"\"\"Fit the model.\n",
    "        \n",
    "        Args:\n",
    "            X: numpy array of shape (n_samples, n_features)\n",
    "            y: numpy array of shape (n_samples,)\n",
    "                Target vector.        \n",
    "        \"\"\"\n",
    "        X_ext = np.hstack([np.ones((X.shape[0], 1)), X]) # a constant feature is included to handle intercept\n",
    "        self.X_ext = X_ext\n",
    "        num_features = X_ext.shape[1]\n",
    "        if self.zero_init:\n",
    "            self.weights_ = np.zeros(num_features) \n",
    "        else:\n",
    "            weight_threshold = 1.0 / (2 * num_features)\n",
    "            self.weights_ = self.random_state.uniform(low=-weight_threshold,\n",
    "                                                      high=weight_threshold, size=num_features) # random weight initialization\n",
    "#(y@X_ext)*(1 - 1/(1+np.exp(-((weights_@X_ext.T)*y_train))).sum())\n",
    "        for i in range(self.max_iter): \n",
    "            delta = (1/X_ext.shape[0])*(y@X_ext)*\\\n",
    "                (1 - 1/(1+np.exp(-((self.weights_@X_ext.T)*y))).sum()) - ((self.eta/self.C)*self.weights_)\n",
    "            delta = - delta \n",
    "            self.weights_ -= self.eta * delta\n",
    "            self.loss_hist.append(self.get_loss(X, self.weights_, y))\n",
    "            if np.linalg.norm(delta) < self.tol:\n",
    "                print(\"break\")\n",
    "                break\n",
    "        \n",
    "        \n",
    "                \n",
    "    \n",
    "    def predict_proba(self, X):\n",
    "        \"\"\"Predict positive class probabilities.\n",
    "        \n",
    "        Args:\n",
    "            X: numpy array of shape (n_samples, n_features)\n",
    "        Returns:\n",
    "            y: numpy array of shape (n_samples,)\n",
    "                Vector containing positive class probabilities.\n",
    "        \"\"\"\n",
    "        X_ext = np.hstack([np.ones((X.shape[0], 1)), X])\n",
    "        if hasattr(self, 'weights_'):\n",
    "            return self.get_sigmoid(X_ext, self.weights_)\n",
    "        else: \n",
    "            raise NotFittedError(\"CustomLogisticRegression instance is not fitted yet\")\n",
    "    \n",
    "    def predict(self, X):\n",
    "        \"\"\"Predict classes.\n",
    "        \n",
    "        Args:\n",
    "            X: numpy array of shape (n_samples, n_features)\n",
    "        Returns:\n",
    "            y: numpy array of shape (n_samples,)\n",
    "                Vector containing predicted class labels.\n",
    "        \"\"\"\n",
    "        y_hat = self.predict_proba(X)\n",
    "        return [1 if e>0.5 else -1 for e in y_hat]"
   ]
  },
  {
   "cell_type": "code",
   "execution_count": 401,
   "metadata": {},
   "outputs": [],
   "source": [
    "from sklearn import datasets\n",
    "from sklearn import metrics"
   ]
  },
  {
   "cell_type": "code",
   "execution_count": 402,
   "metadata": {},
   "outputs": [
    {
     "data": {
      "image/png": "[encoded data removed]",
      "text/plain": [
       "<Figure size 720x360 with 21 Axes>"
      ]
     },
     "metadata": {
      "needs_background": "light"
     },
     "output_type": "display_data"
    }
   ],
   "source": [
    "X, y = datasets.load_digits(n_class=10, return_X_y=True)\n",
    "\n",
    "_, axes = plt.subplots(nrows=3, ncols=7, figsize=(10, 5))\n",
    "for ax, image, label in zip(axes.flatten(), X, y):\n",
    "    ax.set_axis_off()\n",
    "    ax.imshow(image.reshape((8, 8)), cmap=plt.cm.gray_r if label % 2 else plt.cm.afmhot_r)\n",
    "    ax.set_title(label)\n",
    "\n",
    "X_train, X_test, y_train, y_test = train_test_split(X, y, test_size=0.2, shuffle=True, random_state=42)\n",
    "#y_train = \"<your code>\"\n",
    "#y_test = \"<your code>\"\n",
    "y_train = (y_train % 2) * 2 - 1\n",
    "y_test = (y_test % 2) * 2 - 1"
   ]
  },
  {
   "cell_type": "code",
   "execution_count": 403,
   "metadata": {},
   "outputs": [],
   "source": [
    "assert (np.unique(y_train) == [-1, 1]).all()\n",
    "assert (np.unique(y_test) == [-1, 1]).all()"
   ]
  },
  {
   "cell_type": "code",
   "execution_count": 404,
   "metadata": {},
   "outputs": [],
   "source": [
    "def fit_evaluate(clf, X_train, y_train, X_test, y_test):\n",
    "    clf.fit(X_train, y_train)\n",
    "    disp = metrics.plot_confusion_matrix(clf, X_test, y_test, normalize='true')\n",
    "    disp.figure_.suptitle(\"Confusion Matrix\")\n",
    "    plt.show()\n",
    "    \n",
    "    return metrics.accuracy_score(y_pred=clf.predict(X_train), y_true=y_train), \\\n",
    "           metrics.accuracy_score(y_pred=clf.predict(X_test), y_true=y_test)"
   ]
  },
  {
   "cell_type": "code",
   "execution_count": 405,
   "metadata": {},
   "outputs": [],
   "source": [
    "lr_clf = CustomLogisticRegression(max_iter=1, zero_init=True)"
   ]
  },
  {
   "cell_type": "code",
   "execution_count": 406,
   "metadata": {},
   "outputs": [],
   "source": [
    "assert np.allclose(lr_clf.get_sigmoid(np.array([[0.5, 0, 1.0], [0.3, 1.3, 1.0]]), np.array([0.5, -0.5, 0.1])),\n",
    "                   np.array([0.58662, 0.40131]))"
   ]
  },
  {
   "cell_type": "code",
   "execution_count": 407,
   "metadata": {},
   "outputs": [],
   "source": [
    "lr_clf.fit(X_train, y_train)"
   ]
  },
  {
   "cell_type": "code",
   "execution_count": 408,
   "metadata": {},
   "outputs": [
    {
     "data": {
      "text/plain": [
       "array([ 6.26086881e-06,  0.00000000e+00,  8.34782508e-05,  1.09495639e-03,\n",
       "        4.42434729e-04,  9.74608578e-04,  2.71443445e-03,  1.19513029e-03,\n",
       "        1.12695639e-04, -1.39130418e-06,  3.38086916e-04,  5.03652113e-04,\n",
       "       -8.73739025e-04,  7.23478173e-04,  2.00904324e-03,  8.45217289e-04,\n",
       "        5.14782546e-05,  6.95652090e-07, -2.29565190e-05, -1.44834765e-03,\n",
       "       -5.23826024e-04,  1.75026066e-03,  8.30608595e-04, -1.68347806e-04,\n",
       "       -1.04347813e-05,  0.00000000e+00, -4.43130381e-04, -1.14226073e-03,\n",
       "        1.97078237e-03,  2.70052141e-03,  1.00382597e-03, -3.40869524e-04,\n",
       "       -2.08695627e-06,  0.00000000e+00, -1.35582592e-03, -2.10226062e-03,\n",
       "       -8.90434675e-05,  7.42956432e-04,  8.41739029e-04, -1.63478241e-04,\n",
       "        0.00000000e+00, -1.04347813e-05, -1.06782596e-03, -4.07721690e-03,\n",
       "       -1.68556501e-03,  2.07999975e-04, -2.47652144e-04, -3.57565174e-04,\n",
       "       -2.64347794e-05, -9.04347717e-06, -1.88521716e-04, -2.22469538e-03,\n",
       "       -1.01773901e-03, -4.36869512e-04, -1.12069552e-03, -7.90956426e-04,\n",
       "       -3.54782566e-05, -6.95652090e-07,  5.35652109e-05,  1.27791289e-03,\n",
       "        3.61739087e-04, -1.47269547e-03, -1.07826074e-03, -7.40869476e-04,\n",
       "       -5.63478193e-05])"
      ]
     },
     "execution_count": 408,
     "metadata": {},
     "output_type": "execute_result"
    }
   ],
   "source": [
    "lr_clf.weights_"
   ]
  },
  {
   "cell_type": "code",
   "execution_count": 409,
   "metadata": {},
   "outputs": [
    {
     "ename": "AssertionError",
     "evalue": "",
     "output_type": "error",
     "traceback": [
      "\u001b[1;31m---------------------------------------------------------------------------\u001b[0m",
      "\u001b[1;31mAssertionError\u001b[0m                            Traceback (most recent call last)",
      "\u001b[1;32m~\\AppData\\Local\\Temp\\ipykernel_14792\\1441533731.py\u001b[0m in \u001b[0;36m<module>\u001b[1;34m\u001b[0m\n\u001b[1;32m----> 1\u001b[1;33m assert np.allclose(lr_clf.weights_, np.array([ 3.1000e-06,  0.0000e+00,  4.1800e-05,  5.4770e-04,  2.2130e-04,\n\u001b[0m\u001b[0;32m      2\u001b[0m         \u001b[1;36m4.8750e-04\u001b[0m\u001b[1;33m,\u001b[0m  \u001b[1;36m1.3577e-03\u001b[0m\u001b[1;33m,\u001b[0m  \u001b[1;36m5.9780e-04\u001b[0m\u001b[1;33m,\u001b[0m  \u001b[1;36m5.6400e-05\u001b[0m\u001b[1;33m,\u001b[0m \u001b[1;33m-\u001b[0m\u001b[1;36m7.0000e-07\u001b[0m\u001b[1;33m,\u001b[0m\u001b[1;33m\u001b[0m\u001b[1;33m\u001b[0m\u001b[0m\n\u001b[0;32m      3\u001b[0m         \u001b[1;36m1.6910e-04\u001b[0m\u001b[1;33m,\u001b[0m  \u001b[1;36m2.5190e-04\u001b[0m\u001b[1;33m,\u001b[0m \u001b[1;33m-\u001b[0m\u001b[1;36m4.3700e-04\u001b[0m\u001b[1;33m,\u001b[0m  \u001b[1;36m3.6190e-04\u001b[0m\u001b[1;33m,\u001b[0m  \u001b[1;36m1.0049e-03\u001b[0m\u001b[1;33m,\u001b[0m\u001b[1;33m\u001b[0m\u001b[1;33m\u001b[0m\u001b[0m\n\u001b[0;32m      4\u001b[0m         \u001b[1;36m4.2280e-04\u001b[0m\u001b[1;33m,\u001b[0m  \u001b[1;36m2.5700e-05\u001b[0m\u001b[1;33m,\u001b[0m  \u001b[1;36m3.0000e-07\u001b[0m\u001b[1;33m,\u001b[0m \u001b[1;33m-\u001b[0m\u001b[1;36m1.1500e-05\u001b[0m\u001b[1;33m,\u001b[0m \u001b[1;33m-\u001b[0m\u001b[1;36m7.2440e-04\u001b[0m\u001b[1;33m,\u001b[0m\u001b[1;33m\u001b[0m\u001b[1;33m\u001b[0m\u001b[0m\n\u001b[0;32m      5\u001b[0m        \u001b[1;33m-\u001b[0m\u001b[1;36m2.6200e-04\u001b[0m\u001b[1;33m,\u001b[0m  \u001b[1;36m8.7540e-04\u001b[0m\u001b[1;33m,\u001b[0m  \u001b[1;36m4.1540e-04\u001b[0m\u001b[1;33m,\u001b[0m \u001b[1;33m-\u001b[0m\u001b[1;36m8.4200e-05\u001b[0m\u001b[1;33m,\u001b[0m \u001b[1;33m-\u001b[0m\u001b[1;36m5.2000e-06\u001b[0m\u001b[1;33m,\u001b[0m\u001b[1;33m\u001b[0m\u001b[1;33m\u001b[0m\u001b[0m\n",
      "\u001b[1;31mAssertionError\u001b[0m: "
     ]
    }
   ],
   "source": [
    "assert np.allclose(lr_clf.weights_, np.array([ 3.1000e-06,  0.0000e+00,  4.1800e-05,  5.4770e-04,  2.2130e-04,\n",
    "        4.8750e-04,  1.3577e-03,  5.9780e-04,  5.6400e-05, -7.0000e-07,\n",
    "        1.6910e-04,  2.5190e-04, -4.3700e-04,  3.6190e-04,  1.0049e-03,\n",
    "        4.2280e-04,  2.5700e-05,  3.0000e-07, -1.1500e-05, -7.2440e-04,\n",
    "       -2.6200e-04,  8.7540e-04,  4.1540e-04, -8.4200e-05, -5.2000e-06,\n",
    "        0.0000e+00, -2.2160e-04, -5.7130e-04,  9.8570e-04,  1.3507e-03,\n",
    "        5.0210e-04, -1.7050e-04, -1.0000e-06,  0.0000e+00, -6.7810e-04,\n",
    "       -1.0515e-03, -4.4500e-05,  3.7160e-04,  4.2100e-04, -8.1800e-05,\n",
    "        0.0000e+00, -5.2000e-06, -5.3410e-04, -2.0393e-03, -8.4310e-04,\n",
    "        1.0400e-04, -1.2390e-04, -1.7880e-04, -1.3200e-05, -4.5000e-06,\n",
    "       -9.4300e-05, -1.1127e-03, -5.0900e-04, -2.1850e-04, -5.6050e-04,\n",
    "       -3.9560e-04, -1.7700e-05, -3.0000e-07,  2.6800e-05,  6.3920e-04,\n",
    "        1.8090e-04, -7.3660e-04, -5.3930e-04, -3.7060e-04, -2.8200e-05]), atol=1e-5)"
   ]
  },
  {
   "cell_type": "code",
   "execution_count": 410,
   "metadata": {},
   "outputs": [],
   "source": [
    "model = CustomLogisticRegression()"
   ]
  },
  {
   "cell_type": "code",
   "execution_count": 411,
   "metadata": {},
   "outputs": [
    {
     "name": "stderr",
     "output_type": "stream",
     "text": [
      "C:\\Users\\User\\anaconda3\\lib\\site-packages\\sklearn\\utils\\deprecation.py:87: FutureWarning: Function plot_confusion_matrix is deprecated; Function `plot_confusion_matrix` is deprecated in 1.0 and will be removed in 1.2. Use one of the class methods: ConfusionMatrixDisplay.from_predictions or ConfusionMatrixDisplay.from_estimator.\n",
      "  warnings.warn(msg, category=FutureWarning)\n"
     ]
    },
    {
     "data": {
      "image/png": "[encoded data removed]",
      "text/plain": [
       "<Figure size 432x288 with 2 Axes>"
      ]
     },
     "metadata": {
      "needs_background": "light"
     },
     "output_type": "display_data"
    }
   ],
   "source": [
    "train_acc, test_acc = fit_evaluate(model, X_train, y_train, X_test, y_test)"
   ]
  },
  {
   "cell_type": "code",
   "execution_count": 412,
   "metadata": {},
   "outputs": [
    {
     "data": {
      "text/plain": [
       "(0.8406402226861517, 0.8694444444444445)"
      ]
     },
     "execution_count": 412,
     "metadata": {},
     "output_type": "execute_result"
    }
   ],
   "source": [
    "train_acc, test_acc"
   ]
  },
  {
   "cell_type": "code",
   "execution_count": 363,
   "metadata": {},
   "outputs": [
    {
     "ename": "AssertionError",
     "evalue": "",
     "output_type": "error",
     "traceback": [
      "\u001b[1;31m---------------------------------------------------------------------------\u001b[0m",
      "\u001b[1;31mAssertionError\u001b[0m                            Traceback (most recent call last)",
      "\u001b[1;32m~\\AppData\\Local\\Temp\\ipykernel_14792\\4215115562.py\u001b[0m in \u001b[0;36m<module>\u001b[1;34m\u001b[0m\n\u001b[1;32m----> 1\u001b[1;33m \u001b[1;32massert\u001b[0m \u001b[0mmin\u001b[0m\u001b[1;33m(\u001b[0m\u001b[0mtrain_acc\u001b[0m\u001b[1;33m,\u001b[0m \u001b[0mtest_acc\u001b[0m\u001b[1;33m)\u001b[0m \u001b[1;33m>\u001b[0m \u001b[1;36m0.9\u001b[0m\u001b[1;33m\u001b[0m\u001b[1;33m\u001b[0m\u001b[0m\n\u001b[0m",
      "\u001b[1;31mAssertionError\u001b[0m: "
     ]
    }
   ],
   "source": [
    "assert min(train_acc, test_acc) > 0.9"
   ]
  },
  {
   "cell_type": "markdown",
   "metadata": {},
   "source": [
    "**(0.5 points)** Visualize the loss history."
   ]
  },
  {
   "cell_type": "code",
   "execution_count": 413,
   "metadata": {
    "scrolled": false
   },
   "outputs": [
    {
     "data": {
      "text/plain": [
       "[0.7173898064667629,\n",
       " 0.67735705612967,\n",
       " 0.6403201474765501,\n",
       " 0.606233426728683,\n",
       " 0.5750157980170658,\n",
       " 0.5465562170538385,\n",
       " 0.5207203738665845,\n",
       " 0.4973577026616829,\n",
       " 0.47630801042734455,\n",
       " 0.45740725420072725,\n",
       " 0.4404922370462353,\n",
       " 0.4254041838148971,\n",
       " 0.4119912828540187,\n",
       " 0.4001103450242682,\n",
       " 0.38962775249124953,\n",
       " 0.3804198634617217,\n",
       " 0.3723730186232965,\n",
       " 0.3653832694848068,\n",
       " 0.3593559233631404,\n",
       " 0.3542049770531531,\n",
       " 0.3498524922391718,\n",
       " 0.3462279505315667,\n",
       " 0.34326761426637986,\n",
       " 0.340913910348649,\n",
       " 0.33911484789071483,\n",
       " 0.3378234756871224,\n",
       " 0.3369973822477329,\n",
       " 0.33659823883210704,\n",
       " 0.3365913844172585,\n",
       " 0.33694545057680675,\n",
       " 0.33763202369291945,\n",
       " 0.33862534164427743,\n",
       " 0.3399020220259254,\n",
       " 0.34144081899645545,\n",
       " 0.34322240596856074,\n",
       " 0.34522918152800175,\n",
       " 0.3474450961606457,\n",
       " 0.3498554975718735,\n",
       " 0.3524469925868663,\n",
       " 0.3552073238173699,\n",
       " 0.35812525946643037,\n",
       " 0.36119049481503335,\n",
       " 0.3643935640926037,\n",
       " 0.3677257615767774,\n",
       " 0.3711790708971734,\n",
       " 0.3747461016338061,\n",
       " 0.37842003240424127,\n",
       " 0.38219455972564065,\n",
       " 0.3860638520195119,\n",
       " 0.3900225081993257,\n",
       " 0.3940655203451485,\n",
       " 0.39818824002598563,\n",
       " 0.402386347880481,\n",
       " 0.4066558261107186,\n",
       " 0.4109929335828175,\n",
       " 0.41539418326239297,\n",
       " 0.41985632174334164,\n",
       " 0.42437631065523285,\n",
       " 0.42895130975831836,\n",
       " 0.4335786615561397,\n",
       " 0.43825587727426574,\n",
       " 0.44298062407011113,\n",
       " 0.44775071335332134,\n",
       " 0.452564090109082,\n",
       " 0.4574188231281227,\n",
       " 0.4623130960573007,\n",
       " 0.46724519919362795,\n",
       " 0.47221352195257243,\n",
       " 0.47721654594854895,\n",
       " 0.482252838631811,\n",
       " 0.48732104743155935,\n",
       " 0.4924198943600767,\n",
       " 0.4975481710371493,\n",
       " 0.5027047340980133,\n",
       " 0.5078885009516104,\n",
       " 0.5130984458591198,\n",
       " 0.5183335963055714,\n",
       " 0.523593029639905,\n",
       " 0.5288758699611177,\n",
       " 0.5341812852302096,\n",
       " 0.5395084845894791,\n",
       " 0.5448567158723896,\n",
       " 0.5502252632887265,\n",
       " 0.5556134452711252,\n",
       " 0.5610206124702628,\n",
       " 0.5664461458871218,\n",
       " 0.571889455131733,\n",
       " 0.5773499767987049,\n",
       " 0.5828271729506775,\n",
       " 0.5883205297015784,\n",
       " 0.5938295558922371,\n",
       " 0.5993537818515289,\n",
       " 0.6048927582367841,\n",
       " 0.6104460549476984,\n",
       " 0.6160132601084548,\n",
       " 0.6215939791131837,\n",
       " 0.6271878337302795,\n",
       " 0.6327944612614406,\n",
       " 0.6384135137516249,\n",
       " 0.6440446572464066,\n",
       " 0.6496875710934918,\n",
       " 0.6553419472853952,\n",
       " 0.6610074898405078,\n",
       " 0.6666839142199954,\n",
       " 0.6723709467781545,\n",
       " 0.6780683242440303,\n",
       " 0.6837757932322623,\n",
       " 0.689493109781269,\n",
       " 0.6952200389170218,\n",
       " 0.7009563542407818,\n",
       " 0.7067018375392908,\n",
       " 0.7124562784160097,\n",
       " 0.7182194739421037,\n",
       " 0.723991228325957,\n",
       " 0.729771352600084,\n",
       " 0.7355596643243896,\n",
       " 0.7413559873047902,\n",
       " 0.7471601513262839,\n",
       " 0.7529719918996137,\n",
       " 0.7587913500207272,\n",
       " 0.764618071942286,\n",
       " 0.7704520089565308,\n",
       " 0.7762930171888487,\n",
       " 0.7821409574014356,\n",
       " 0.7879956948064839,\n",
       " 0.7938570988883589,\n",
       " 0.7997250432342673,\n",
       " 0.8055994053729479,\n",
       " 0.8114800666209424,\n",
       " 0.8173669119360402,\n",
       " 0.8232598297775016,\n",
       " 0.8291587119727034,\n",
       " 0.8350634535898626,\n",
       " 0.8409739528165152,\n",
       " 0.8468901108434516,\n",
       " 0.8528118317538242,\n",
       " 0.8587390224171558,\n",
       " 0.8646715923880055,\n",
       " 0.8706094538090452,\n",
       " 0.8765525213183316,\n",
       " 0.8825007119605593,\n",
       " 0.8884539451020956,\n",
       " 0.8944121423496139,\n",
       " 0.9003752274721422,\n",
       " 0.9063431263263684,\n",
       " 0.9123157667850362,\n",
       " 0.9182930786682884,\n",
       " 0.9242749936778129,\n",
       " 0.9302614453336626,\n",
       " 0.9362523689136184,\n",
       " 0.9422477013949783,\n",
       " 0.9482473813986596,\n",
       " 0.9542513491355084,\n",
       " 0.9602595463547111,\n",
       " 0.9662719162942179,\n",
       " 0.97228840363308,\n",
       " 0.9783089544456215,\n",
       " 0.9843335161573585,\n",
       " 0.9903620375025907,\n",
       " 0.9963944684835883,\n",
       " 1.0024307603313105,\n",
       " 1.0084708654675816,\n",
       " 1.0145147374686654,\n",
       " 1.0205623310301775,\n",
       " 1.0266136019332786,\n",
       " 1.0326685070120913,\n",
       " 1.0387270041222918,\n",
       " 1.0447890521108285,\n",
       " 1.050854610786714,\n",
       " 1.0569236408928542,\n",
       " 1.062996104078864,\n",
       " 1.0690719628748366,\n",
       " 1.0751511806660212,\n",
       " 1.0812337216683758,\n",
       " 1.087319550904959,\n",
       " 1.0934086341831266,\n",
       " 1.0995009380725036,\n",
       " 1.105596429883695,\n",
       " 1.1116950776477155,\n",
       " 1.1177968500961009,\n",
       " 1.123901716641679,\n",
       " 1.1300096473599754,\n",
       " 1.1361206129712296,\n",
       " 1.1422345848229924,\n",
       " 1.1483515348732916,\n",
       " 1.154471435674339,\n",
       " 1.1605942603567578,\n",
       " 1.1667199826143144,\n",
       " 1.1728485766891323,\n",
       " 1.1789800173573737,\n",
       " 1.1851142799153687,\n",
       " 1.191251340166178,\n",
       " 1.1973911744065708,\n",
       " 1.203533759414405,\n",
       " 1.2096790724363962,\n",
       " 1.2158270911762568,\n",
       " 1.2219777937831986,\n",
       " 1.2281311588407797,\n",
       " 1.234287165356089,\n",
       " 1.2404457927492516,\n",
       " 1.2466070208432491,\n",
       " 1.2527708298540383,\n",
       " 1.2589372003809614,\n",
       " 1.2651061133974404,\n",
       " 1.2712775502419373,\n",
       " 1.2774514926091807,\n",
       " 1.2836279225416432,\n",
       " 1.2898068224212644,\n",
       " 1.295988174961411,\n",
       " 1.3021719631990638,\n",
       " 1.3083581704872278,\n",
       " 1.3145467804875532,\n",
       " 1.3207377771631674,\n",
       " 1.3269311447717023,\n",
       " 1.3331268678585182,\n",
       " 1.3393249312501136,\n",
       " 1.3455253200477177,\n",
       " 1.351728019621055,\n",
       " 1.3579330156022835,\n",
       " 1.364140293880095,\n",
       " 1.3703498405939747,\n",
       " 1.3765616421286166,\n",
       " 1.3827756851084863,\n",
       " 1.3889919563925284,\n",
       " 1.3952104430690178,\n",
       " 1.4014311324505413,\n",
       " 1.4076540120691152,\n",
       " 1.413879069671428,\n",
       " 1.42010629321421,\n",
       " 1.4263356708597177,\n",
       " 1.4325671909713409,\n",
       " 1.4388008421093184,\n",
       " 1.4450366130265635,\n",
       " 1.4512744926645977,\n",
       " 1.4575144701495866,\n",
       " 1.4637565347884756,\n",
       " 1.4700006760652211,\n",
       " 1.4762468836371212,\n",
       " 1.4824951473312313,\n",
       " 1.4887454571408725,\n",
       " 1.4949978032222264,\n",
       " 1.501252175891012,\n",
       " 1.5075085656192446,\n",
       " 1.5137669630320738,\n",
       " 1.5200273589047004,\n",
       " 1.5262897441593626,\n",
       " 1.5325541098624014,\n",
       " 1.5388204472213902,\n",
       " 1.5450887475823394,\n",
       " 1.5513590024269617,\n",
       " 1.557631203370005,\n",
       " 1.563905342156649,\n",
       " 1.5701814106599605,\n",
       " 1.5764594008784123,\n",
       " 1.582739304933454,\n",
       " 1.5890211150671445,\n",
       " 1.5953048236398397,\n",
       " 1.601590423127926,\n",
       " 1.607877906121618,\n",
       " 1.6141672653227923,\n",
       " 1.620458493542885,\n",
       " 1.626751583700824,\n",
       " 1.6330465288210196,\n",
       " 1.6393433220313909,\n",
       " 1.6456419565614417,\n",
       " 1.651942425740378,\n",
       " 1.6582447229952682,\n",
       " 1.6645488418492416,\n",
       " 1.6708547759197305,\n",
       " 1.677162518916749,\n",
       " 1.6834720646412071,\n",
       " 1.6897834069832678,\n",
       " 1.6960965399207328,\n",
       " 1.7024114575174685,\n",
       " 1.7087281539218644,\n",
       " 1.7150466233653234,\n",
       " 1.7213668601607872,\n",
       " 1.7276888587012889,\n",
       " 1.734012613458542,\n",
       " 1.7403381189815543,\n",
       " 1.7466653698952754,\n",
       " 1.752994360899267,\n",
       " 1.7593250867664094,\n",
       " 1.7656575423416248,\n",
       " 1.7719917225406392,\n",
       " 1.7783276223487556,\n",
       " 1.7846652368196687,\n",
       " 1.7910045610742884,\n",
       " 1.7973455902996018,\n",
       " 1.8036883197475444,\n",
       " 1.8100327447339082,\n",
       " 1.8163788606372604,\n",
       " 1.8227266628978913,\n",
       " 1.8290761470167816,\n",
       " 1.835427308554588,\n",
       " 1.841780143130651,\n",
       " 1.8481346464220254,\n",
       " 1.854490814162524,\n",
       " 1.8608486421417862,\n",
       " 1.8672081262043603,\n",
       " 1.8735692622488076,\n",
       " 1.8799320462268219,\n",
       " 1.8862964741423656,\n",
       " 1.8926625420508272,\n",
       " 1.8990302460581887,\n",
       " 1.905399582320213,\n",
       " 1.9117705470416477,\n",
       " 1.9181431364754413,\n",
       " 1.9245173469219778,\n",
       " 1.9308931747283213,\n",
       " 1.9372706162874813,\n",
       " 1.9436496680376858,\n",
       " 1.9500303264616723,\n",
       " 1.9564125880859902,\n",
       " 1.9627964494803183,\n",
       " 1.9691819072567915,\n",
       " 1.9755689580693439,\n",
       " 1.981957598613062,\n",
       " 1.9883478256235505,\n",
       " 1.99473963587631,\n",
       " 2.0011330261861278,\n",
       " 2.0075279934064727,\n",
       " 2.013924534428914,\n",
       " 2.020322646182537,\n",
       " 2.026722325633379,\n",
       " 2.033123569783872,\n",
       " 2.0395263756722937,\n",
       " 2.045930740372233,\n",
       " 2.052336660992062,\n",
       " 2.0587441346744155,\n",
       " 2.0651531585956864,\n",
       " 2.071563729965523,\n",
       " 2.0779758460263387,\n",
       " 2.0843895040528317,\n",
       " 2.09080470135151,\n",
       " 2.0972214352602263,\n",
       " 2.103639703147723,\n",
       " 2.110059502413179,\n",
       " 2.116480830485774,\n",
       " 2.1229036848242506,\n",
       " 2.1293280629164903,\n",
       " 2.135753962279096,\n",
       " 2.14218138045698,\n",
       " 2.1486103150229563,\n",
       " 2.1550407635773507,\n",
       " 2.1614727237476026,\n",
       " 2.167906193187887,\n",
       " 2.174341169578734,\n",
       " 2.180777650626658,\n",
       " 2.1872156340637954,\n",
       " 2.1936551176475447,\n",
       " 2.2000960991602136,\n",
       " 2.206538576408674,\n",
       " 2.212982547224018,\n",
       " 2.219428009461228,\n",
       " 2.225874960998843,\n",
       " 2.232323399738636,\n",
       " 2.238773323605297,\n",
       " 2.2452247305461164,\n",
       " 2.251677618530678,\n",
       " 2.25813198555056,\n",
       " 2.264587829619029,\n",
       " 2.271045148770753,\n",
       " 2.27750394106151,\n",
       " 2.283964204567904,\n",
       " 2.2904259373870883,\n",
       " 2.2968891376364873,\n",
       " 2.3033538034535286,\n",
       " 2.309819932995375,\n",
       " 2.3162875244386636,\n",
       " 2.3227565759792506,\n",
       " 2.3292270858319526,\n",
       " 2.335699052230302,\n",
       " 2.342172473426298,\n",
       " 2.3486473476901684,\n",
       " 2.3551236733101275,\n",
       " 2.361601448592146,\n",
       " 2.368080671859717,\n",
       " 2.3745613414536333,\n",
       " 2.3810434557317595,\n",
       " 2.3875270130688153,\n",
       " 2.394012011856157,\n",
       " 2.400498450501567,\n",
       " 2.406986327429041,\n",
       " 2.413475641078583,\n",
       " 2.4199663899060035,\n",
       " 2.4264585723827143,\n",
       " 2.4329521869955357,\n",
       " 2.4394472322465,\n",
       " 2.4459437066526633,\n",
       " 2.4524416087459113,\n",
       " 2.458940937072779,\n",
       " 2.465441690194266,\n",
       " 2.4719438666856544,\n",
       " 2.478447465136337,\n",
       " 2.484952484149636,\n",
       " 2.491458922342635,\n",
       " 2.497966778346008,\n",
       " 2.5044760508038526,\n",
       " 2.5109867383735267,\n",
       " 2.5174988397254854,\n",
       " 2.524012353543118,\n",
       " 2.5305272785225967,\n",
       " 2.537043613372717,\n",
       " 2.5435613568147475,\n",
       " 2.550080507582277,\n",
       " 2.5566010644210673,\n",
       " 2.563123026088906,\n",
       " 2.569646391355466,\n",
       " 2.576171159002156,\n",
       " 2.582697327821989,\n",
       " 2.5892248966194384,\n",
       " 2.5957538642103035,\n",
       " 2.6022842294215773,\n",
       " 2.6088159910913102,\n",
       " 2.6153491480684843,\n",
       " 2.6218836992128813,\n",
       " 2.6284196433949583,\n",
       " 2.6349569794957217,\n",
       " 2.6414957064066042,\n",
       " 2.6480358230293426,\n",
       " 2.65457732827586,\n",
       " 2.6611202210681477,\n",
       " 2.6676645003381463,\n",
       " 2.674210165027633,\n",
       " 2.680757214088109,\n",
       " 2.6873056464806844,\n",
       " 2.6938554611759753,\n",
       " 2.7004066571539855,\n",
       " 2.706959233404008,\n",
       " 2.7135131889245154,\n",
       " 2.720068522723055,\n",
       " 2.7266252338161494,\n",
       " 2.733183321229191,\n",
       " 2.7397427839963484,\n",
       " 2.746303621160458,\n",
       " 2.752865831772938,\n",
       " 2.7594294148936833,\n",
       " 2.765994369590976,\n",
       " 2.7725606949413906,\n",
       " 2.779128390029701,\n",
       " 2.785697453948792,\n",
       " 2.792267885799567,\n",
       " 2.7988396846908596,\n",
       " 2.80541284973935,\n",
       " 2.8119873800694726,\n",
       " 2.8185632748133367,\n",
       " 2.825140533110641,\n",
       " 2.831719154108589,\n",
       " 2.8382991369618074,\n",
       " 2.844880480832268,\n",
       " 2.8514631848892087,\n",
       " 2.858047248309048,\n",
       " 2.864632670275316,\n",
       " 2.871219449978574,\n",
       " 2.8778075866163375,\n",
       " 2.8843970793930054,\n",
       " 2.8909879275197827,\n",
       " 2.8975801302146107,\n",
       " 2.9041736867020953,\n",
       " 2.9107685962134315,\n",
       " 2.9173648579863394,\n",
       " 2.923962471264994,\n",
       " 2.930561435299954,\n",
       " 2.9371617493480966,\n",
       " 2.9437634126725527,\n",
       " 2.9503664245426378,\n",
       " 2.9569707842337896,\n",
       " 2.9635764910275046,\n",
       " 2.9701835442112734,\n",
       " 2.976791943078518,\n",
       " 2.9834016869285325,\n",
       " 2.9900127750664196,\n",
       " 2.9966252068030346,\n",
       " 3.0032389814549205,\n",
       " 3.0098540983442557,\n",
       " 3.0164705567987893,\n",
       " 3.0230883561517907,\n",
       " 3.029707495741988,\n",
       " 3.0363279749135166,\n",
       " 3.0429497930158607,\n",
       " 3.049572949403801,\n",
       " 3.0561974434373584,\n",
       " 3.0628232744817465,\n",
       " 3.0694504419073123,\n",
       " 3.0760789450894883,\n",
       " 3.0827087834087425,\n",
       " 3.0893399562505257,\n",
       " 3.0959724630052214,\n",
       " 3.102606303068096,\n",
       " 3.109241475839256,\n",
       " 3.115877980723589,\n",
       " 3.1225158171307257,\n",
       " 3.1291549844749924,\n",
       " 3.1357954821753555,\n",
       " 3.1424373096553873,\n",
       " 3.1490804663432126,\n",
       " 3.1557249516714654,\n",
       " 3.1623707650772515,\n",
       " 3.1690179060020927,\n",
       " 3.175666373891893,\n",
       " 3.182316168196894,\n",
       " 3.1889672883716282,\n",
       " 3.195619733874884,\n",
       " 3.2022735041696606,\n",
       " 3.2089285987231264,\n",
       " 3.215585017006581,\n",
       " 3.222242758495414,\n",
       " 3.2289018226690676,\n",
       " 3.235562209010995,\n",
       " 3.242223917008623,\n",
       " 3.2488869461533167,\n",
       " 3.2555512959403363,\n",
       " 3.2622169658688054,\n",
       " 3.268883955441671,\n",
       " 3.2755522641656696,\n",
       " 3.2822218915512873,\n",
       " 3.2888928371127304,\n",
       " 3.2955651003678845,\n",
       " 3.3022386808382844,\n",
       " 3.3089135780490757,\n",
       " 3.315589791528984,\n",
       " 3.3222673208102798,\n",
       " 3.3289461654287473,\n",
       " 3.335626324923649,\n",
       " 3.342307798837696,\n",
       " 3.3489905867170116,\n",
       " 3.3556746881111064,\n",
       " 3.3623601025728402,\n",
       " 3.3690468296583957,\n",
       " 3.3757348689272453,\n",
       " 3.3824242199421226,\n",
       " 3.3891148822689905,\n",
       " 3.3958068554770127,\n",
       " 3.4025001391385254,\n",
       " 3.409194732829007,\n",
       " 3.415890636127048,\n",
       " 3.4225878486143273,\n",
       " 3.429286369875578,\n",
       " 3.4359861994985654,\n",
       " 3.442687337074057,\n",
       " 3.4493897821957935,\n",
       " 3.4560935344604653,\n",
       " 3.4627985934676846,\n",
       " 3.469504958819959,\n",
       " 3.476212630122664,\n",
       " 3.4829216069840228,\n",
       " 3.489631889015074,\n",
       " 3.4963434758296486,\n",
       " 3.50305636704435,\n",
       " 3.5097705622785216,\n",
       " 3.5164860611542275,\n",
       " 3.5232028632962282,\n",
       " 3.529920968331956,\n",
       " 3.536640375891487,\n",
       " 3.5433610856075277,\n",
       " 3.550083097115383,\n",
       " 3.5568064100529346,\n",
       " 3.563531024060626,\n",
       " 3.5702569387814296,\n",
       " 3.5769841538608316,\n",
       " 3.5837126689468057,\n",
       " 3.5904424836897957,\n",
       " 3.5971735977426924,\n",
       " 3.603906010760811,\n",
       " 3.610639722401872,\n",
       " 3.6173747323259757,\n",
       " 3.624111040195592,\n",
       " 3.630848645675527,\n",
       " 3.6375875484329137,\n",
       " 3.644327748137186,\n",
       " 3.651069244460061,\n",
       " 3.657812037075521,\n",
       " 3.6645561256597885,\n",
       " 3.6713015098913124,\n",
       " 3.6780481894507497,\n",
       " 3.6847961640209426,\n",
       " 3.691545433286901,\n",
       " 3.6982959969357885,\n",
       " 3.705047854656898,\n",
       " 3.7118010061416364,\n",
       " 3.7185554510835104,\n",
       " 3.7253111891781012,\n",
       " 3.7320682201230535,\n",
       " 3.7388265436180546,\n",
       " 3.7455861593648203,\n",
       " 3.7523470670670758,\n",
       " 3.759109266430538,\n",
       " 3.765872757162903,\n",
       " 3.7726375389738247,\n",
       " 3.7794036115749012,\n",
       " 3.786170974679662,\n",
       " 3.792939628003542,\n",
       " 3.7997095712638775,\n",
       " 3.8064808041798828,\n",
       " 3.8132533264726365,\n",
       " 3.8200271378650688,\n",
       " 3.826802238081943,\n",
       " 3.833578626849842,\n",
       " 3.8403563038971544,\n",
       " 3.8471352689540557,\n",
       " 3.8539155217524996,\n",
       " 3.8606970620261984,\n",
       " 3.867479889510613,\n",
       " 3.8742640039429332,\n",
       " 3.8810494050620714,\n",
       " 3.88783609260864,\n",
       " 3.894624066324945,\n",
       " 3.901413325954967,\n",
       " 3.908203871244353,\n",
       " 3.9149957019403976,\n",
       " 3.921788817792033,\n",
       " 3.9285832185498144,\n",
       " 3.9353789039659093,\n",
       " 3.9421758737940813,\n",
       " 3.948974127789679,\n",
       " 3.955773665709627,\n",
       " 3.9625744873124065,\n",
       " 3.9693765923580457,\n",
       " 3.97617998060811,\n",
       " 3.9829846518256873,\n",
       " 3.9897906057753785,\n",
       " 3.9965978422232804,\n",
       " 4.003406360936981,\n",
       " 4.0102161616855385,\n",
       " 4.0170272442394825,\n",
       " 4.023839608370789,\n",
       " 4.030653253852878,\n",
       " 4.037468180460602,\n",
       " 4.044284387970224,\n",
       " 4.051101876159427,\n",
       " 4.057920644807281,\n",
       " 4.064740693694245,\n",
       " 4.071562022602155,\n",
       " 4.078384631314208,\n",
       " 4.08520851961496,\n",
       " 4.092033687290307,\n",
       " 4.098860134127477,\n",
       " 4.105687859915025,\n",
       " 4.112516864442817,\n",
       " 4.119347147502021,\n",
       " 4.126178708885097,\n",
       " 4.133011548385791,\n",
       " 4.139845665799118,\n",
       " 4.14668106092136,\n",
       " 4.153517733550049,\n",
       " 4.160355683483966,\n",
       " 4.167194910523122,\n",
       " 4.174035414468755,\n",
       " 4.180877195123321,\n",
       " 4.187720252290478,\n",
       " 4.194564585775087,\n",
       " 4.201410195383193,\n",
       " 4.208257080922027,\n",
       " 4.215105242199984,\n",
       " 4.2219546790266245,\n",
       " 4.228805391212662,\n",
       " 4.235657378569954,\n",
       " 4.242510640911494,\n",
       " 4.249365178051406,\n",
       " 4.2562209898049295,\n",
       " 4.263078075988417,\n",
       " 4.269936436419322,\n",
       " 4.276796070916196,\n",
       " 4.283656979298669,\n",
       " 4.2905191613874605,\n",
       " 4.297382617004351,\n",
       " 4.304247345972189,\n",
       " 4.311113348114873,\n",
       " 4.317980623257352,\n",
       " 4.324849171225613,\n",
       " 4.331718991846672,\n",
       " 4.338590084948574,\n",
       " 4.345462450360377,\n",
       " 4.352336087912148,\n",
       " 4.359210997434955,\n",
       " 4.366087178760863,\n",
       " 4.3729646317229225,\n",
       " 4.379843356155162,\n",
       " 4.386723351892587,\n",
       " 4.393604618771166,\n",
       " 4.4004871566278245,\n",
       " 4.407370965300443,\n",
       " 4.414256044627846,\n",
       " 4.421142394449797,\n",
       " 4.4280300146069855,\n",
       " 4.434918904941033,\n",
       " 4.441809065294475,\n",
       " 4.44870049551076,\n",
       " 4.455593195434238,\n",
       " 4.4624871649101605,\n",
       " 4.469382403784672,\n",
       " 4.4762789119047985,\n",
       " 4.48317668911845,\n",
       " 4.490075735274404,\n",
       " 4.49697605022231,\n",
       " 4.503877633812674,\n",
       " 4.510780485896862,\n",
       " 4.517684606327083,\n",
       " 4.524589994956389,\n",
       " 4.5314966516386725,\n",
       " 4.538404576228653,\n",
       " 4.5453137685818765,\n",
       " 4.552224228554707,\n",
       " 4.559135956004323,\n",
       " 4.566048950788711,\n",
       " 4.572963212766654,\n",
       " 4.579878741797739,\n",
       " 4.586795537742338,\n",
       " 4.593713600461611,\n",
       " 4.600632929817497,\n",
       " 4.60755352567271,\n",
       " 4.61447538789073,\n",
       " 4.621398516335804,\n",
       " 4.628322910872934,\n",
       " 4.63524857136788,\n",
       " 4.642175497687143,\n",
       " 4.649103689697972,\n",
       " 4.656033147268352,\n",
       " 4.662963870266998,\n",
       " 4.669895858563358,\n",
       " 4.676829112027594,\n",
       " 4.683763630530593,\n",
       " 4.6906994139439515,\n",
       " 4.6976364621399735,\n",
       " 4.7045747749916655,\n",
       " 4.711514352372731,\n",
       " 4.71845519415757,\n",
       " 4.725397300221268,\n",
       " 4.732340670439595,\n",
       " 4.739285304689001,\n",
       " 4.7462312028466105,\n",
       " 4.753178364790215,\n",
       " 4.760126790398275,\n",
       " 4.767076479549909,\n",
       " 4.774027432124898,\n",
       " 4.780979648003666,\n",
       " 4.78793312706729,\n",
       " 4.794887869197488,\n",
       " 4.801843874276622,\n",
       " 4.808801142187681,\n",
       " 4.815759672814289,\n",
       " 4.822719466040696,\n",
       " 4.829680521751773,\n",
       " 4.83664283983301,\n",
       " 4.843606420170506,\n",
       " 4.850571262650977,\n",
       " 4.85753736716174,\n",
       " 4.864504733590711,\n",
       " 4.8714733618264106,\n",
       " 4.878443251757946,\n",
       " 4.8854144032750195,\n",
       " 4.892386816267914,\n",
       " 4.8993604906274975,\n",
       " 4.906335426245216,\n",
       " 4.913311623013089,\n",
       " 4.920289080823704,\n",
       " 4.9272677995702185,\n",
       " 4.934247779146349,\n",
       " 4.941229019446379,\n",
       " 4.948211520365137,\n",
       " 4.955195281798013,\n",
       " 4.962180303640938,\n",
       " 4.969166585790392,\n",
       " 4.976154128143392,\n",
       " 4.983142930597497,\n",
       " 4.990132993050799,\n",
       " 4.997124315401919,\n",
       " 5.004116897550007,\n",
       " 5.011110739394733,\n",
       " 5.018105840836294,\n",
       " 5.025102201775398,\n",
       " 5.032099822113268,\n",
       " 5.039098701751638,\n",
       " 5.046098840592752,\n",
       " 5.0531002385393515,\n",
       " 5.060102895494682,\n",
       " 5.0671068113624855,\n",
       " 5.074111986047002,\n",
       " 5.081118419452955,\n",
       " 5.088126111485562,\n",
       " 5.095135062050522,\n",
       " 5.102145271054017,\n",
       " 5.109156738402705,\n",
       " 5.116169464003723,\n",
       " 5.123183447764677,\n",
       " 5.130198689593645,\n",
       " 5.137215189399172,\n",
       " 5.144232947090262,\n",
       " 5.1512519625763815,\n",
       " 5.158272235767458,\n",
       " 5.165293766573869,\n",
       " 5.1723165549064465,\n",
       " 5.179340600676468,\n",
       " 5.186365903795663,\n",
       " 5.193392464176199,\n",
       " 5.200420281730687,\n",
       " 5.207449356372172,\n",
       " 5.21447968801414,\n",
       " 5.221511276570502,\n",
       " 5.228544121955605,\n",
       " 5.235578224084218,\n",
       " 5.242613582871538,\n",
       " 5.249650198233179,\n",
       " 5.256688070085177,\n",
       " 5.263727198343988,\n",
       " 5.270767582926471,\n",
       " 5.277809223749904,\n",
       " 5.284852120731975,\n",
       " 5.2918962737907735,\n",
       " 5.298941682844792,\n",
       " 5.305988347812927,\n",
       " 5.313036268614473,\n",
       " 5.320085445169118,\n",
       " 5.327135877396947,\n",
       " 5.334187565218433,\n",
       " 5.34124050855444,\n",
       " 5.348294707326218,\n",
       " 5.3553501614554,\n",
       " 5.362406870863999,\n",
       " 5.369464835474412,\n",
       " 5.3765240552094085,\n",
       " 5.3835845299921345,\n",
       " 5.390646259746109,\n",
       " 5.3977092443952195,\n",
       " 5.404773483863721,\n",
       " 5.411838978076236,\n",
       " 5.41890572695775,\n",
       " 5.425973730433605,\n",
       " 5.43304298842951,\n",
       " 5.440113500871524,\n",
       " 5.447185267686063,\n",
       " 5.454258288799896,\n",
       " 5.461332564140141,\n",
       " 5.468408093634265,\n",
       " 5.475484877210081,\n",
       " 5.4825629147957455,\n",
       " 5.489642206319756,\n",
       " 5.496722751710952,\n",
       " 5.503804550898509,\n",
       " 5.510887603811938,\n",
       " 5.517971910381085,\n",
       " 5.525057470536129,\n",
       " 5.532144284207574,\n",
       " 5.539232351326256,\n",
       " 5.546321671823336,\n",
       " 5.553412245630298,\n",
       " 5.560504072678947,\n",
       " 5.56759715290141,\n",
       " 5.574691486230132,\n",
       " 5.581787072597871,\n",
       " 5.588883911937703,\n",
       " 5.595982004183015,\n",
       " 5.603081349267505,\n",
       " 5.610181947125178,\n",
       " 5.61728379769035,\n",
       " 5.624386900897635,\n",
       " 5.631491256681957,\n",
       " 5.638596864978539,\n",
       " 5.645703725722904,\n",
       " 5.652811838850873,\n",
       " 5.659921204298559,\n",
       " 5.667031822002378,\n",
       " 5.674143691899033,\n",
       " 5.6812568139255175,\n",
       " 5.688371188019114,\n",
       " 5.695486814117399,\n",
       " 5.702603692158227,\n",
       " 5.709721822079738,\n",
       " 5.716841203820362,\n",
       " 5.723961837318799,\n",
       " 5.731083722514036,\n",
       " 5.738206859345334,\n",
       " 5.745331247752234,\n",
       " 5.752456887674547,\n",
       " 5.759583779052356,\n",
       " 5.766711921826022,\n",
       " 5.773841315936169,\n",
       " 5.780971961323692,\n",
       " 5.788103857929749,\n",
       " 5.795237005695771,\n",
       " 5.802371404563445,\n",
       " 5.809507054474722,\n",
       " 5.8166439553718154,\n",
       " 5.823782107197194,\n",
       " 5.830921509893587,\n",
       " 5.838062163403979,\n",
       " 5.8452040676716095,\n",
       " 5.852347222639969,\n",
       " 5.8594916282527985,\n",
       " 5.866637284454097,\n",
       " 5.873784191188102,\n",
       " 5.880932348399305,\n",
       " 5.888081756032441,\n",
       " 5.895232414032489,\n",
       " 5.902384322344672,\n",
       " 5.909537480914456,\n",
       " 5.916691889687544,\n",
       " 5.923847548609881,\n",
       " 5.931004457627649,\n",
       " 5.938162616687265,\n",
       " 5.945322025735381,\n",
       " 5.952482684718881,\n",
       " 5.959644593584887,\n",
       " 5.966807752280747,\n",
       " 5.973972160754041,\n",
       " 5.981137818952574,\n",
       " 5.9883047268243805,\n",
       " 5.995472884317722,\n",
       " 6.002642291381082,\n",
       " 6.009812947963169,\n",
       " 6.016984854012913,\n",
       " 6.0241580094794625,\n",
       " 6.031332414312188,\n",
       " 6.038508068460678,\n",
       " 6.0456849718747385,\n",
       " 6.052863124504391,\n",
       " 6.060042526299869,\n",
       " 6.067223177211623,\n",
       " 6.074405077190313,\n",
       " 6.081588226186812,\n",
       " 6.088772624152204,\n",
       " 6.095958271037777,\n",
       " 6.103145166795032,\n",
       " 6.110333311375671,\n",
       " 6.117522704731605,\n",
       " 6.124713346814951,\n",
       " 6.131905237578022,\n",
       " 6.1390983769733385,\n",
       " 6.146292764953621,\n",
       " 6.153488401471787,\n",
       " 6.160685286480957,\n",
       " 6.167883419934444,\n",
       " 6.175082801785759,\n",
       " 6.182283431988612,\n",
       " 6.189485310496902,\n",
       " 6.196688437264721,\n",
       " 6.20389281224636,\n",
       " 6.21109843539629,\n",
       " 6.218305306669183,\n",
       " 6.225513426019895,\n",
       " 6.232722793403467,\n",
       " 6.239933408775133,\n",
       " 6.2471452720903065,\n",
       " 6.25435838330459,\n",
       " 6.261572742373769,\n",
       " 6.268788349253812,\n",
       " 6.276005203900867,\n",
       " 6.2832233062712675,\n",
       " 6.290442656321521,\n",
       " 6.297663254008319,\n",
       " 6.304885099288526,\n",
       " 6.31210819211919,\n",
       " 6.319332532457529,\n",
       " 6.3265581202609384,\n",
       " 6.333784955486985,\n",
       " 6.341013038093417,\n",
       " 6.348242368038145,\n",
       " 6.355472945279252,\n",
       " 6.362704769775,\n",
       " 6.369937841483812,\n",
       " 6.377172160364282,\n",
       " 6.384407726375172,\n",
       " 6.391644539475409,\n",
       " 6.3988825996240895,\n",
       " 6.406121906780473,\n",
       " 6.413362460903979,\n",
       " 6.420604261954197,\n",
       " 6.4278473098908755,\n",
       " 6.435091604673924,\n",
       " 6.442337146263414,\n",
       " 6.449583934619575,\n",
       " 6.4568319697027965,\n",
       " 6.464081251473626,\n",
       " 6.471331779892767,\n",
       " 6.478583554921081,\n",
       " 6.485836576519585,\n",
       " 6.493090844649449,\n",
       " 6.500346359271997,\n",
       " 6.50760312034871,\n",
       " 6.514861127841215,\n",
       " 6.522120381711295,\n",
       " 6.529380881920883,\n",
       " 6.536642628432059,\n",
       " 6.543905621207056,\n",
       " 6.55116986020825,\n",
       " 6.5584353453981725,\n",
       " 6.565702076739495,\n",
       " 6.572970054195037,\n",
       " 6.580239277727762,\n",
       " 6.587509747300781,\n",
       " 6.594781462877345,\n",
       " 6.602054424420849,\n",
       " 6.609328631894834,\n",
       " 6.616604085262977,\n",
       " 6.6238807844890975,\n",
       " 6.631158729537156,\n",
       " 6.638437920371253,\n",
       " 6.645718356955621,\n",
       " 6.65300003925464]"
      ]
     },
     "execution_count": 413,
     "metadata": {},
     "output_type": "execute_result"
    }
   ],
   "source": [
    "model.loss_hist"
   ]
  },
  {
   "cell_type": "code",
   "execution_count": 337,
   "metadata": {},
   "outputs": [],
   "source": [
    "from sklearn.linear_model import LogisticRegression"
   ]
  },
  {
   "cell_type": "code",
   "execution_count": 338,
   "metadata": {},
   "outputs": [],
   "source": [
    "logisticRegr = LogisticRegression()"
   ]
  },
  {
   "cell_type": "code",
   "execution_count": 339,
   "metadata": {},
   "outputs": [
    {
     "name": "stderr",
     "output_type": "stream",
     "text": [
      "C:\\Users\\User\\anaconda3\\lib\\site-packages\\sklearn\\linear_model\\_logistic.py:814: ConvergenceWarning: lbfgs failed to converge (status=1):\n",
      "STOP: TOTAL NO. of ITERATIONS REACHED LIMIT.\n",
      "\n",
      "Increase the number of iterations (max_iter) or scale the data as shown in:\n",
      "    https://scikit-learn.org/stable/modules/preprocessing.html\n",
      "Please also refer to the documentation for alternative solver options:\n",
      "    https://scikit-learn.org/stable/modules/linear_model.html#logistic-regression\n",
      "  n_iter_i = _check_optimize_result(\n"
     ]
    },
    {
     "data": {
      "text/plain": [
       "LogisticRegression()"
      ]
     },
     "execution_count": 339,
     "metadata": {},
     "output_type": "execute_result"
    }
   ],
   "source": [
    "logisticRegr.fit(X_train, y_train)"
   ]
  },
  {
   "cell_type": "code",
   "execution_count": 341,
   "metadata": {},
   "outputs": [
    {
     "data": {
      "text/plain": [
       "0.9305555555555556"
      ]
     },
     "execution_count": 341,
     "metadata": {},
     "output_type": "execute_result"
    }
   ],
   "source": [
    "logisticRegr.score(X_test, y_test)"
   ]
  },
  {
   "cell_type": "markdown",
   "metadata": {},
   "source": [
    "**(0.5 points)** Try different learning rates and compare the results. How does the learning rate influence the convergence?"
   ]
  },
  {
   "cell_type": "code",
   "execution_count": null,
   "metadata": {},
   "outputs": [],
   "source": [
    "## your code"
   ]
  },
  {
   "cell_type": "markdown",
   "metadata": {},
   "source": [
    "< your thoughts >"
   ]
  },
  {
   "cell_type": "markdown",
   "metadata": {},
   "source": [
    "**(0.5 points)** Try different regularization parameter values and compare the model quality."
   ]
  },
  {
   "cell_type": "code",
   "execution_count": null,
   "metadata": {},
   "outputs": [],
   "source": [
    "## your code"
   ]
  },
  {
   "cell_type": "markdown",
   "metadata": {},
   "source": [
    "< your thoughts >"
   ]
  },
  {
   "cell_type": "markdown",
   "metadata": {},
   "source": [
    "**(0.5 points)** Compare zero initialization and random initialization. "
   ]
  },
  {
   "cell_type": "code",
   "execution_count": null,
   "metadata": {},
   "outputs": [],
   "source": [
    "## your code"
   ]
  },
  {
   "cell_type": "markdown",
   "metadata": {},
   "source": [
    "< your thoughts >"
   ]
  },
  {
   "cell_type": "markdown",
   "metadata": {},
   "source": [
    "## Part 2: Implementing KNN Classifier"
   ]
  },
  {
   "cell_type": "markdown",
   "metadata": {},
   "source": [
    "In this task you need to implement weighted K-Neighbors Classifier."
   ]
  },
  {
   "cell_type": "markdown",
   "metadata": {},
   "source": [
    "Recall that training a KNN classifier is simply memorizing a training sample. \n",
    "\n",
    "The process of applying a classifier for one object is to find the distances from it to all objects in the training data, then select the k nearest objects (neighbors) and return the most common class among these objects."
   ]
  },
  {
   "cell_type": "markdown",
   "metadata": {},
   "source": [
    "You can also give the nearest neighbors weights in accordance with the distance of the object to them. In the simplest case (as in your assignment), you can set the weights inversely proportional to that distance. \n",
    "\n",
    "$$w_{i} = \\frac{1}{d_{i} + eps},$$\n",
    "\n",
    "where $d_{i}$ is the distance between object and i-th nearest neighbor and $eps$ is the small value to prevent division by zero.\n",
    "\n",
    "In case of 'uniform' weights, all k nearest neighbors are equivalent (have equal weight, for example $w_{i} = 1, \\forall i \\in(1,k)$)."
   ]
  },
  {
   "cell_type": "markdown",
   "metadata": {},
   "source": [
    "To predict the probability of classes, it is necessary to normalize the weights of each class, dividing them by the sum:\n",
    "\n",
    "$$p_{i} = \\frac{w_{i}}{\\sum_{j=1}^{c}w_{j}},$$\n",
    "\n",
    "where $p_i$ is probability of i-th class and $c$ is the number of classes."
   ]
  },
  {
   "cell_type": "markdown",
   "metadata": {},
   "source": [
    "**(2 points)** Implement the algorithm and use it to classify the digits. By implementing this algorithm, you will be able to classify numbers not only into \"even\" or \"odd\", but into their real representation."
   ]
  },
  {
   "cell_type": "code",
   "execution_count": null,
   "metadata": {},
   "outputs": [],
   "source": [
    "class CustomKNeighborsClassifier:\n",
    "    _estimator_type = \"classifier\"\n",
    "    \n",
    "    def __init__(self, n_neighbors=5, weights='uniform', eps=1e-9):\n",
    "        \"\"\"K-Nearest Neighbors classifier.\n",
    "        \n",
    "        Args:\n",
    "            n_neighbors: int, default=5\n",
    "                Number of neighbors to use by default for :meth:`kneighbors` queries.\n",
    "            weights : {'uniform', 'distance'} or callable, default='uniform'\n",
    "                Weight function used in prediction.  Possible values:\n",
    "                - 'uniform' : uniform weights.  All points in each neighborhood\n",
    "                  are weighted equally.\n",
    "                - 'distance' : weight points by the inverse of their distance.\n",
    "                  in this case, closer neighbors of a query point will have a\n",
    "                  greater influence than neighbors which are further away.\n",
    "            eps : float, default=1e-5\n",
    "                Epsilon to prevent division by 0 \n",
    "        \"\"\"\n",
    "        self.n_neighbors = n_neighbors\n",
    "        self.weights = weights\n",
    "        self.eps = eps\n",
    "        \n",
    "    \n",
    "    def get_pairwise_distances(self, X, Y):\n",
    "        \n",
    "        \"\"\"\n",
    "        Returnes matrix of the pairwise distances between the rows from both X and Y.\n",
    "        Args:\n",
    "            X: numpy array of shape (n_samples, n_features)\n",
    "            Y: numpy array of shape (k_samples, n_features)\n",
    "        Returns:\n",
    "            P: numpy array of shape (n_samples, k_samples)\n",
    "                Matrix in which (i, j) value is the distance \n",
    "                between i'th row from the X and j'th row from the Y.\n",
    "        \"\"\"\n",
    "        return np.array([[sqrt(sum((i-j)**2)) for j in Y] for i in X])\n",
    "    \n",
    "    \n",
    "    def get_class_weights(self, y, weights):\n",
    "        \"\"\"\n",
    "        Returns a vector with sum of weights for each class \n",
    "        Args:\n",
    "            y: numpy array of shape (n_samles,)\n",
    "            weights: numpy array of shape (n_samples,)\n",
    "                The weights of the corresponding points of y.\n",
    "        Returns:\n",
    "            p: numpy array of shape (n_classes)\n",
    "                Array where the value at the i-th position \n",
    "                corresponds to the weight of the i-th class.\n",
    "        \"\"\"\n",
    "        # <your code>\n",
    "        pass\n",
    "            \n",
    "        \n",
    "    def fit(self, X, y):\n",
    "        \"\"\"Fit the model.\n",
    "        \n",
    "        Args:\n",
    "            X: numpy array of shape (n_samples, n_features)\n",
    "            y: numpy array of shape (n_samples,)\n",
    "                Target vector.        \n",
    "        \"\"\"\n",
    "        self.points = X\n",
    "        self.y = y\n",
    "        self.classes_ = np.unique(y)\n",
    "        \n",
    "        \n",
    "    def predict_proba(self, X):\n",
    "        \"\"\"Predict positive class probabilities.\n",
    "        \n",
    "        Args:\n",
    "            X: numpy array of shape (n_samples, n_features)\n",
    "        Returns:\n",
    "            y: numpy array of shape (n_samples, n_classes)\n",
    "                Vector containing positive class probabilities.\n",
    "        \"\"\"\n",
    "        if hasattr(self, 'points'):\n",
    "            P = self.get_pairwise_distances(X, self.points)\n",
    "            \n",
    "            weights_of_points = np.ones(P.shape)\n",
    "            if self.weights == 'distance':\n",
    "                weights_of_points = 'your code'\n",
    "                \n",
    "            # <your code>\n",
    "            pass\n",
    "        \n",
    "        else: \n",
    "            raise NotFittedError(\"CustomKNeighborsClassifier instance is not fitted yet\")\n",
    "            \n",
    "        \n",
    "    def predict(self, X):\n",
    "        \"\"\"Predict classes.\n",
    "        \n",
    "        Args:\n",
    "            X: numpy array of shape (n_samples, n_features)\n",
    "        Returns:\n",
    "            y: numpy array of shape (n_samples,)\n",
    "                Vector containing predicted class labels.\n",
    "        \"\"\"\n",
    "        # <your code>\n",
    "        pass"
   ]
  },
  {
   "cell_type": "code",
   "execution_count": null,
   "metadata": {},
   "outputs": [],
   "source": [
    "model = CustomKNeighborsClassifier(n_neighbors=5, weights='distance')\n",
    "knn = KNeighborsClassifier(n_neighbors=5, weights='distance')"
   ]
  },
  {
   "cell_type": "code",
   "execution_count": null,
   "metadata": {},
   "outputs": [],
   "source": [
    "assert np.allclose(model.get_pairwise_distances(np.array([[0  , 1]  , [1, 1]]), \n",
    "                                                np.array([[0.5, 0.5], [1, 0]])),\n",
    "                   np.array([[0.70710678, 1.41421356],\n",
    "                             [0.70710678, 1.        ]]))"
   ]
  },
  {
   "cell_type": "code",
   "execution_count": null,
   "metadata": {},
   "outputs": [],
   "source": [
    "model.classes_ = ['one', 'two', 'three']\n",
    "assert np.allclose(model.get_class_weights(np.array(['one', 'one', 'three', 'two']), np.array([1, 1, 0, 4])), \n",
    "                   np.array([2,4,0]))"
   ]
  },
  {
   "cell_type": "code",
   "execution_count": null,
   "metadata": {},
   "outputs": [],
   "source": [
    "X, y = datasets.load_digits(n_class=10, return_X_y=True)\n",
    "\n",
    "_, axes = plt.subplots(nrows=3, ncols=7, figsize=(10, 5))\n",
    "for ax, image, label in zip(axes.flatten(), X, y):\n",
    "    ax.set_axis_off()\n",
    "    ax.imshow(image.reshape((8, 8)), cmap=plt.cm.gray_r if label % 2 else plt.cm.afmhot_r)\n",
    "    ax.set_title(label)\n",
    "\n",
    "X_train, X_test, y_train, y_test = train_test_split(X, y, test_size=0.2, shuffle=True, random_state=42)"
   ]
  },
  {
   "cell_type": "code",
   "execution_count": null,
   "metadata": {},
   "outputs": [],
   "source": [
    "model.fit(X_train, y_train)\n",
    "knn.fit(X_train, list(map(str, y_train)));"
   ]
  },
  {
   "cell_type": "code",
   "execution_count": null,
   "metadata": {},
   "outputs": [],
   "source": [
    "assert np.allclose(model.predict_proba(X_test), knn.predict_proba(X_test))"
   ]
  },
  {
   "cell_type": "code",
   "execution_count": null,
   "metadata": {},
   "outputs": [],
   "source": [
    "train_acc, test_acc = fit_evaluate(model, X_train, y_train, X_test, y_test)"
   ]
  },
  {
   "cell_type": "code",
   "execution_count": null,
   "metadata": {},
   "outputs": [],
   "source": [
    "assert train_acc == 1\n",
    "assert test_acc > 0.98"
   ]
  },
  {
   "cell_type": "markdown",
   "metadata": {},
   "source": [
    "**(0.5 points)** Take a look at the confusion matrix and tell what numbers the model confuses and why this happens."
   ]
  },
  {
   "cell_type": "markdown",
   "metadata": {},
   "source": [
    "< your thoughts >"
   ]
  },
  {
   "cell_type": "markdown",
   "metadata": {},
   "source": [
    "**(0.5 points)** Try different n_neighbors parameters and compare the output probabilities of the model."
   ]
  },
  {
   "cell_type": "code",
   "execution_count": null,
   "metadata": {},
   "outputs": [],
   "source": [
    "## your code"
   ]
  },
  {
   "cell_type": "markdown",
   "metadata": {},
   "source": [
    "< your thoughts >"
   ]
  },
  {
   "cell_type": "markdown",
   "metadata": {},
   "source": [
    "**(0.5 points)** Compare both 'uniform' and 'distance' weights and share your thoughts in what situations which parameter can be better."
   ]
  },
  {
   "cell_type": "code",
   "execution_count": null,
   "metadata": {},
   "outputs": [],
   "source": [
    "## your code"
   ]
  },
  {
   "cell_type": "markdown",
   "metadata": {},
   "source": [
    "< your thoughts >"
   ]
  },
  {
   "cell_type": "markdown",
   "metadata": {},
   "source": [
    "**(0.5 points)** Suggest another distance measurement function that could improve the quality of the classification for this task. "
   ]
  },
  {
   "cell_type": "markdown",
   "metadata": {},
   "source": [
    "< your thoughts >"
   ]
  },
  {
   "cell_type": "markdown",
   "metadata": {},
   "source": [
    "**(0.5 points)** Suggest different task and distance function that you think would be suitable for it."
   ]
  },
  {
   "cell_type": "markdown",
   "metadata": {},
   "source": [
    "< your thoughts >"
   ]
  },
  {
   "cell_type": "markdown",
   "metadata": {},
   "source": [
    "## Part 3: Synthetic Titanic Survival Prediction"
   ]
  },
  {
   "cell_type": "markdown",
   "metadata": {},
   "source": [
    "### Dataset\n",
    "\n",
    "Read the description here: https://www.kaggle.com/c/tabular-playground-series-apr-2021/data. Download the dataset and place it in the *data/titanic/* folder in your working directory.\n",
    "You will use train.csv for model training and validation. The test set is used for model testing: once the model is trained, you can predict whether a passenger survived or not for each passenger in the test set, and submit the predictions: https://www.kaggle.com/c/tabular-playground-series-apr-2021/overview/evaluation.  \n"
   ]
  },
  {
   "cell_type": "code",
   "execution_count": null,
   "metadata": {},
   "outputs": [],
   "source": [
    "PATH = \"./data/\""
   ]
  },
  {
   "cell_type": "code",
   "execution_count": null,
   "metadata": {
    "scrolled": true
   },
   "outputs": [],
   "source": [
    "data = pd.read_csv(os.path.join(PATH, 'train.csv')).set_index('PassengerId')"
   ]
  },
  {
   "cell_type": "code",
   "execution_count": null,
   "metadata": {
    "scrolled": true
   },
   "outputs": [],
   "source": [
    "data.head()"
   ]
  },
  {
   "cell_type": "markdown",
   "metadata": {},
   "source": [
    "### EDA"
   ]
  },
  {
   "cell_type": "markdown",
   "metadata": {},
   "source": [
    "**(0.5 points)** How many females and males are there in the dataset? What about the survived passengers? Is there any relationship between the gender and the survival?"
   ]
  },
  {
   "cell_type": "code",
   "execution_count": null,
   "metadata": {
    "scrolled": true
   },
   "outputs": [],
   "source": [
    "display(data['Sex'].value_counts())\n",
    "sns.countplot(x=\"Sex\", data=data);"
   ]
  },
  {
   "cell_type": "code",
   "execution_count": null,
   "metadata": {},
   "outputs": [],
   "source": [
    "sns.countplot(data=data, x='Sex', hue='Survived');"
   ]
  },
  {
   "cell_type": "markdown",
   "metadata": {},
   "source": [
    "**В полном наборе данных мужчин больше чем женщин: 56114 против 43886. Но выжило женщим больше чем мужчин как в процентном, так в и абсолютном значении**"
   ]
  },
  {
   "cell_type": "markdown",
   "metadata": {},
   "source": [
    "**(0.5 points)** Plot age distribution of the passengers. What is the average and the median age of survived and deceased passengers? Do age distributions differ for survived and deceased passengers? Why?"
   ]
  },
  {
   "cell_type": "code",
   "execution_count": null,
   "metadata": {},
   "outputs": [],
   "source": [
    "## your code"
   ]
  },
  {
   "cell_type": "markdown",
   "metadata": {},
   "source": [
    "< your thoughts >"
   ]
  },
  {
   "cell_type": "markdown",
   "metadata": {},
   "source": [
    "**(1 point)** Explore \"passenger class\" and \"embarked\" features. What class was \"the safest\"? Is there any relationship between the embarkation port and the survival? Provide the corresponding visualizations."
   ]
  },
  {
   "cell_type": "code",
   "execution_count": null,
   "metadata": {},
   "outputs": [],
   "source": [
    "## your code"
   ]
  },
  {
   "cell_type": "markdown",
   "metadata": {},
   "source": [
    "< your thoughts >"
   ]
  },
  {
   "cell_type": "markdown",
   "metadata": {},
   "source": [
    "### Modelling"
   ]
  },
  {
   "cell_type": "markdown",
   "metadata": {},
   "source": [
    "**(0.5 points)** Find the percentage of missing values for each feature. "
   ]
  },
  {
   "cell_type": "code",
   "execution_count": null,
   "metadata": {},
   "outputs": [],
   "source": [
    "## your code"
   ]
  },
  {
   "cell_type": "markdown",
   "metadata": {},
   "source": [
    "Think about the ways to handle these missing values for modelling and write your answer below. Which methods would you suggest? What are their advantages and disadvantages?\n",
    "\n",
    "< your thoughts >"
   ]
  },
  {
   "cell_type": "markdown",
   "metadata": {},
   "source": [
    "**(1.5 points)** Prepare the features and train two models (KNN and Logistic Regression) to predict the survival. Compare the results. Use accuracy as a metric. Don't forget about cross-validation!"
   ]
  },
  {
   "cell_type": "code",
   "execution_count": null,
   "metadata": {},
   "outputs": [],
   "source": [
    "## your code"
   ]
  },
  {
   "cell_type": "markdown",
   "metadata": {},
   "source": [
    "**(0.5 + X points)** Try more feature engineering and hyperparameter tuning to improve the results. You may use either KNN or Logistic Regression (or both)."
   ]
  },
  {
   "cell_type": "code",
   "execution_count": null,
   "metadata": {},
   "outputs": [],
   "source": [
    "## your code"
   ]
  },
  {
   "cell_type": "markdown",
   "metadata": {},
   "source": [
    "Select the best model, load the test set and make the predictions. Submit them to kaggle and see the results :)\n",
    "\n",
    "**Note**. X points will depend on your kaggle public leaderboard score.\n",
    "$$ f(score) = 1.0, \\ \\ 0.79 \\leq score < 0.80,$$\n",
    "$$ f(score) = 2.5, \\ \\ 0.80 \\leq score < 0.81,$$ \n",
    "$$ f(score) = 4.0, \\ \\ 0.81 \\leq score $$ \n",
    "Your code should generate the output submitted to kaggle. Fix random seeds to make the results reproducible."
   ]
  },
  {
   "cell_type": "code",
   "execution_count": null,
   "metadata": {},
   "outputs": [],
   "source": []
  }
 ],
 "metadata": {
  "kernelspec": {
   "display_name": "Python 3 (ipykernel)",
   "language": "python",
   "name": "python3"
  },
  "language_info": {
   "codemirror_mode": {
    "name": "ipython",
    "version": 3
   },
   "file_extension": ".py",
   "mimetype": "text/x-python",
   "name": "python",
   "nbconvert_exporter": "python",
   "pygments_lexer": "ipython3",
   "version": "3.9.7"
  }
 },
 "nbformat": 4,
 "nbformat_minor": 4
}
